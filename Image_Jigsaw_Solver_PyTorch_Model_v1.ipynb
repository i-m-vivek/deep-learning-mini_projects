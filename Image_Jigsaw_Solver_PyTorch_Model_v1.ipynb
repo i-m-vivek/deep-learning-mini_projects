{
  "nbformat": 4,
  "nbformat_minor": 0,
  "metadata": {
    "colab": {
      "name": "Image Jigsaw Solver - PyTorch Model v1",
      "provenance": [],
      "collapsed_sections": [],
      "mount_file_id": "1-1m35mlwCDOmRT_Zd-5V3b3W_YByaj-8",
      "authorship_tag": "ABX9TyNjJ7igXIkUzBkhIo97uIhL",
      "include_colab_link": true
    },
    "kernelspec": {
      "name": "python3",
      "display_name": "Python 3"
    },
    "accelerator": "GPU",
    "widgets": {
      "application/vnd.jupyter.widget-state+json": {
        "eda10804424d43a19fb26dce1bc111ab": {
          "model_module": "@jupyter-widgets/controls",
          "model_name": "HBoxModel",
          "state": {
            "_view_name": "HBoxView",
            "_dom_classes": [],
            "_model_name": "HBoxModel",
            "_view_module": "@jupyter-widgets/controls",
            "_model_module_version": "1.5.0",
            "_view_count": null,
            "_view_module_version": "1.5.0",
            "box_style": "",
            "layout": "IPY_MODEL_2a694e3b4311474a9c4f3176b6f530ce",
            "_model_module": "@jupyter-widgets/controls",
            "children": [
              "IPY_MODEL_651d29595e0c4eb2b9eaeb726753784a",
              "IPY_MODEL_9d9f712fa3234fb58f5fd5899df442ca"
            ]
          }
        },
        "2a694e3b4311474a9c4f3176b6f530ce": {
          "model_module": "@jupyter-widgets/base",
          "model_name": "LayoutModel",
          "state": {
            "_view_name": "LayoutView",
            "grid_template_rows": null,
            "right": null,
            "justify_content": null,
            "_view_module": "@jupyter-widgets/base",
            "overflow": null,
            "_model_module_version": "1.2.0",
            "_view_count": null,
            "flex_flow": null,
            "width": null,
            "min_width": null,
            "border": null,
            "align_items": null,
            "bottom": null,
            "_model_module": "@jupyter-widgets/base",
            "top": null,
            "grid_column": null,
            "overflow_y": null,
            "overflow_x": null,
            "grid_auto_flow": null,
            "grid_area": null,
            "grid_template_columns": null,
            "flex": null,
            "_model_name": "LayoutModel",
            "justify_items": null,
            "grid_row": null,
            "max_height": null,
            "align_content": null,
            "visibility": null,
            "align_self": null,
            "height": null,
            "min_height": null,
            "padding": null,
            "grid_auto_rows": null,
            "grid_gap": null,
            "max_width": null,
            "order": null,
            "_view_module_version": "1.2.0",
            "grid_template_areas": null,
            "object_position": null,
            "object_fit": null,
            "grid_auto_columns": null,
            "margin": null,
            "display": null,
            "left": null
          }
        },
        "651d29595e0c4eb2b9eaeb726753784a": {
          "model_module": "@jupyter-widgets/controls",
          "model_name": "IntProgressModel",
          "state": {
            "_view_name": "ProgressView",
            "style": "IPY_MODEL_e03264e13b7b4078bb42d0a40d580784",
            "_dom_classes": [],
            "description": "100%",
            "_model_name": "IntProgressModel",
            "bar_style": "success",
            "max": 553507836,
            "_view_module": "@jupyter-widgets/controls",
            "_model_module_version": "1.5.0",
            "value": 553507836,
            "_view_count": null,
            "_view_module_version": "1.5.0",
            "orientation": "horizontal",
            "min": 0,
            "description_tooltip": null,
            "_model_module": "@jupyter-widgets/controls",
            "layout": "IPY_MODEL_86eac99867464fbcbfb2e889f3a1256e"
          }
        },
        "9d9f712fa3234fb58f5fd5899df442ca": {
          "model_module": "@jupyter-widgets/controls",
          "model_name": "HTMLModel",
          "state": {
            "_view_name": "HTMLView",
            "style": "IPY_MODEL_e92453c0e7e34776bb4c2b766bc5af4d",
            "_dom_classes": [],
            "description": "",
            "_model_name": "HTMLModel",
            "placeholder": "​",
            "_view_module": "@jupyter-widgets/controls",
            "_model_module_version": "1.5.0",
            "value": " 528M/528M [33:18&lt;00:00, 277kB/s]",
            "_view_count": null,
            "_view_module_version": "1.5.0",
            "description_tooltip": null,
            "_model_module": "@jupyter-widgets/controls",
            "layout": "IPY_MODEL_97a145d5f94c44aab13ee57f431ddc2a"
          }
        },
        "e03264e13b7b4078bb42d0a40d580784": {
          "model_module": "@jupyter-widgets/controls",
          "model_name": "ProgressStyleModel",
          "state": {
            "_view_name": "StyleView",
            "_model_name": "ProgressStyleModel",
            "description_width": "initial",
            "_view_module": "@jupyter-widgets/base",
            "_model_module_version": "1.5.0",
            "_view_count": null,
            "_view_module_version": "1.2.0",
            "bar_color": null,
            "_model_module": "@jupyter-widgets/controls"
          }
        },
        "86eac99867464fbcbfb2e889f3a1256e": {
          "model_module": "@jupyter-widgets/base",
          "model_name": "LayoutModel",
          "state": {
            "_view_name": "LayoutView",
            "grid_template_rows": null,
            "right": null,
            "justify_content": null,
            "_view_module": "@jupyter-widgets/base",
            "overflow": null,
            "_model_module_version": "1.2.0",
            "_view_count": null,
            "flex_flow": null,
            "width": null,
            "min_width": null,
            "border": null,
            "align_items": null,
            "bottom": null,
            "_model_module": "@jupyter-widgets/base",
            "top": null,
            "grid_column": null,
            "overflow_y": null,
            "overflow_x": null,
            "grid_auto_flow": null,
            "grid_area": null,
            "grid_template_columns": null,
            "flex": null,
            "_model_name": "LayoutModel",
            "justify_items": null,
            "grid_row": null,
            "max_height": null,
            "align_content": null,
            "visibility": null,
            "align_self": null,
            "height": null,
            "min_height": null,
            "padding": null,
            "grid_auto_rows": null,
            "grid_gap": null,
            "max_width": null,
            "order": null,
            "_view_module_version": "1.2.0",
            "grid_template_areas": null,
            "object_position": null,
            "object_fit": null,
            "grid_auto_columns": null,
            "margin": null,
            "display": null,
            "left": null
          }
        },
        "e92453c0e7e34776bb4c2b766bc5af4d": {
          "model_module": "@jupyter-widgets/controls",
          "model_name": "DescriptionStyleModel",
          "state": {
            "_view_name": "StyleView",
            "_model_name": "DescriptionStyleModel",
            "description_width": "",
            "_view_module": "@jupyter-widgets/base",
            "_model_module_version": "1.5.0",
            "_view_count": null,
            "_view_module_version": "1.2.0",
            "_model_module": "@jupyter-widgets/controls"
          }
        },
        "97a145d5f94c44aab13ee57f431ddc2a": {
          "model_module": "@jupyter-widgets/base",
          "model_name": "LayoutModel",
          "state": {
            "_view_name": "LayoutView",
            "grid_template_rows": null,
            "right": null,
            "justify_content": null,
            "_view_module": "@jupyter-widgets/base",
            "overflow": null,
            "_model_module_version": "1.2.0",
            "_view_count": null,
            "flex_flow": null,
            "width": null,
            "min_width": null,
            "border": null,
            "align_items": null,
            "bottom": null,
            "_model_module": "@jupyter-widgets/base",
            "top": null,
            "grid_column": null,
            "overflow_y": null,
            "overflow_x": null,
            "grid_auto_flow": null,
            "grid_area": null,
            "grid_template_columns": null,
            "flex": null,
            "_model_name": "LayoutModel",
            "justify_items": null,
            "grid_row": null,
            "max_height": null,
            "align_content": null,
            "visibility": null,
            "align_self": null,
            "height": null,
            "min_height": null,
            "padding": null,
            "grid_auto_rows": null,
            "grid_gap": null,
            "max_width": null,
            "order": null,
            "_view_module_version": "1.2.0",
            "grid_template_areas": null,
            "object_position": null,
            "object_fit": null,
            "grid_auto_columns": null,
            "margin": null,
            "display": null,
            "left": null
          }
        },
        "cede67eafc814ce187e0d74429acb1ee": {
          "model_module": "@jupyter-widgets/controls",
          "model_name": "HBoxModel",
          "state": {
            "_view_name": "HBoxView",
            "_dom_classes": [],
            "_model_name": "HBoxModel",
            "_view_module": "@jupyter-widgets/controls",
            "_model_module_version": "1.5.0",
            "_view_count": null,
            "_view_module_version": "1.5.0",
            "box_style": "",
            "layout": "IPY_MODEL_6d45f049b5b0467981313553d9ec547e",
            "_model_module": "@jupyter-widgets/controls",
            "children": [
              "IPY_MODEL_bc832c290795479eb8a6bd708b7193b4",
              "IPY_MODEL_96ee72ef322a430783fc7b601341ed34"
            ]
          }
        },
        "6d45f049b5b0467981313553d9ec547e": {
          "model_module": "@jupyter-widgets/base",
          "model_name": "LayoutModel",
          "state": {
            "_view_name": "LayoutView",
            "grid_template_rows": null,
            "right": null,
            "justify_content": null,
            "_view_module": "@jupyter-widgets/base",
            "overflow": null,
            "_model_module_version": "1.2.0",
            "_view_count": null,
            "flex_flow": null,
            "width": null,
            "min_width": null,
            "border": null,
            "align_items": null,
            "bottom": null,
            "_model_module": "@jupyter-widgets/base",
            "top": null,
            "grid_column": null,
            "overflow_y": null,
            "overflow_x": null,
            "grid_auto_flow": null,
            "grid_area": null,
            "grid_template_columns": null,
            "flex": null,
            "_model_name": "LayoutModel",
            "justify_items": null,
            "grid_row": null,
            "max_height": null,
            "align_content": null,
            "visibility": null,
            "align_self": null,
            "height": null,
            "min_height": null,
            "padding": null,
            "grid_auto_rows": null,
            "grid_gap": null,
            "max_width": null,
            "order": null,
            "_view_module_version": "1.2.0",
            "grid_template_areas": null,
            "object_position": null,
            "object_fit": null,
            "grid_auto_columns": null,
            "margin": null,
            "display": null,
            "left": null
          }
        },
        "bc832c290795479eb8a6bd708b7193b4": {
          "model_module": "@jupyter-widgets/controls",
          "model_name": "IntProgressModel",
          "state": {
            "_view_name": "ProgressView",
            "style": "IPY_MODEL_57f346d288ab4f3fb885b7f81a4aa5ce",
            "_dom_classes": [],
            "description": "100%",
            "_model_name": "IntProgressModel",
            "bar_style": "success",
            "max": 2500,
            "_view_module": "@jupyter-widgets/controls",
            "_model_module_version": "1.5.0",
            "value": 2500,
            "_view_count": null,
            "_view_module_version": "1.5.0",
            "orientation": "horizontal",
            "min": 0,
            "description_tooltip": null,
            "_model_module": "@jupyter-widgets/controls",
            "layout": "IPY_MODEL_ff4d4e1daf44413aa64ef7a79b0c8fb2"
          }
        },
        "96ee72ef322a430783fc7b601341ed34": {
          "model_module": "@jupyter-widgets/controls",
          "model_name": "HTMLModel",
          "state": {
            "_view_name": "HTMLView",
            "style": "IPY_MODEL_b32918586cad45b79b8a459066274bd3",
            "_dom_classes": [],
            "description": "",
            "_model_name": "HTMLModel",
            "placeholder": "​",
            "_view_module": "@jupyter-widgets/controls",
            "_model_module_version": "1.5.0",
            "value": " 2500/2500 [08:29&lt;00:00,  4.90it/s]",
            "_view_count": null,
            "_view_module_version": "1.5.0",
            "description_tooltip": null,
            "_model_module": "@jupyter-widgets/controls",
            "layout": "IPY_MODEL_8539127f9d234d5e87b615292db0a047"
          }
        },
        "57f346d288ab4f3fb885b7f81a4aa5ce": {
          "model_module": "@jupyter-widgets/controls",
          "model_name": "ProgressStyleModel",
          "state": {
            "_view_name": "StyleView",
            "_model_name": "ProgressStyleModel",
            "description_width": "initial",
            "_view_module": "@jupyter-widgets/base",
            "_model_module_version": "1.5.0",
            "_view_count": null,
            "_view_module_version": "1.2.0",
            "bar_color": null,
            "_model_module": "@jupyter-widgets/controls"
          }
        },
        "ff4d4e1daf44413aa64ef7a79b0c8fb2": {
          "model_module": "@jupyter-widgets/base",
          "model_name": "LayoutModel",
          "state": {
            "_view_name": "LayoutView",
            "grid_template_rows": null,
            "right": null,
            "justify_content": null,
            "_view_module": "@jupyter-widgets/base",
            "overflow": null,
            "_model_module_version": "1.2.0",
            "_view_count": null,
            "flex_flow": null,
            "width": null,
            "min_width": null,
            "border": null,
            "align_items": null,
            "bottom": null,
            "_model_module": "@jupyter-widgets/base",
            "top": null,
            "grid_column": null,
            "overflow_y": null,
            "overflow_x": null,
            "grid_auto_flow": null,
            "grid_area": null,
            "grid_template_columns": null,
            "flex": null,
            "_model_name": "LayoutModel",
            "justify_items": null,
            "grid_row": null,
            "max_height": null,
            "align_content": null,
            "visibility": null,
            "align_self": null,
            "height": null,
            "min_height": null,
            "padding": null,
            "grid_auto_rows": null,
            "grid_gap": null,
            "max_width": null,
            "order": null,
            "_view_module_version": "1.2.0",
            "grid_template_areas": null,
            "object_position": null,
            "object_fit": null,
            "grid_auto_columns": null,
            "margin": null,
            "display": null,
            "left": null
          }
        },
        "b32918586cad45b79b8a459066274bd3": {
          "model_module": "@jupyter-widgets/controls",
          "model_name": "DescriptionStyleModel",
          "state": {
            "_view_name": "StyleView",
            "_model_name": "DescriptionStyleModel",
            "description_width": "",
            "_view_module": "@jupyter-widgets/base",
            "_model_module_version": "1.5.0",
            "_view_count": null,
            "_view_module_version": "1.2.0",
            "_model_module": "@jupyter-widgets/controls"
          }
        },
        "8539127f9d234d5e87b615292db0a047": {
          "model_module": "@jupyter-widgets/base",
          "model_name": "LayoutModel",
          "state": {
            "_view_name": "LayoutView",
            "grid_template_rows": null,
            "right": null,
            "justify_content": null,
            "_view_module": "@jupyter-widgets/base",
            "overflow": null,
            "_model_module_version": "1.2.0",
            "_view_count": null,
            "flex_flow": null,
            "width": null,
            "min_width": null,
            "border": null,
            "align_items": null,
            "bottom": null,
            "_model_module": "@jupyter-widgets/base",
            "top": null,
            "grid_column": null,
            "overflow_y": null,
            "overflow_x": null,
            "grid_auto_flow": null,
            "grid_area": null,
            "grid_template_columns": null,
            "flex": null,
            "_model_name": "LayoutModel",
            "justify_items": null,
            "grid_row": null,
            "max_height": null,
            "align_content": null,
            "visibility": null,
            "align_self": null,
            "height": null,
            "min_height": null,
            "padding": null,
            "grid_auto_rows": null,
            "grid_gap": null,
            "max_width": null,
            "order": null,
            "_view_module_version": "1.2.0",
            "grid_template_areas": null,
            "object_position": null,
            "object_fit": null,
            "grid_auto_columns": null,
            "margin": null,
            "display": null,
            "left": null
          }
        },
        "23dcf7edbe194923ad06bf088a495575": {
          "model_module": "@jupyter-widgets/controls",
          "model_name": "HBoxModel",
          "state": {
            "_view_name": "HBoxView",
            "_dom_classes": [],
            "_model_name": "HBoxModel",
            "_view_module": "@jupyter-widgets/controls",
            "_model_module_version": "1.5.0",
            "_view_count": null,
            "_view_module_version": "1.5.0",
            "box_style": "",
            "layout": "IPY_MODEL_d1cfc8ef647a4532b8574ea5404a6e82",
            "_model_module": "@jupyter-widgets/controls",
            "children": [
              "IPY_MODEL_f372b4a4114945169f60a374cec008fb",
              "IPY_MODEL_c4f2282c6f3b437f85a0c9859a10ae88"
            ]
          }
        },
        "d1cfc8ef647a4532b8574ea5404a6e82": {
          "model_module": "@jupyter-widgets/base",
          "model_name": "LayoutModel",
          "state": {
            "_view_name": "LayoutView",
            "grid_template_rows": null,
            "right": null,
            "justify_content": null,
            "_view_module": "@jupyter-widgets/base",
            "overflow": null,
            "_model_module_version": "1.2.0",
            "_view_count": null,
            "flex_flow": null,
            "width": null,
            "min_width": null,
            "border": null,
            "align_items": null,
            "bottom": null,
            "_model_module": "@jupyter-widgets/base",
            "top": null,
            "grid_column": null,
            "overflow_y": null,
            "overflow_x": null,
            "grid_auto_flow": null,
            "grid_area": null,
            "grid_template_columns": null,
            "flex": null,
            "_model_name": "LayoutModel",
            "justify_items": null,
            "grid_row": null,
            "max_height": null,
            "align_content": null,
            "visibility": null,
            "align_self": null,
            "height": null,
            "min_height": null,
            "padding": null,
            "grid_auto_rows": null,
            "grid_gap": null,
            "max_width": null,
            "order": null,
            "_view_module_version": "1.2.0",
            "grid_template_areas": null,
            "object_position": null,
            "object_fit": null,
            "grid_auto_columns": null,
            "margin": null,
            "display": null,
            "left": null
          }
        },
        "f372b4a4114945169f60a374cec008fb": {
          "model_module": "@jupyter-widgets/controls",
          "model_name": "IntProgressModel",
          "state": {
            "_view_name": "ProgressView",
            "style": "IPY_MODEL_fa170a1e1d014e88849f38c54a54c174",
            "_dom_classes": [],
            "description": "100%",
            "_model_name": "IntProgressModel",
            "bar_style": "success",
            "max": 313,
            "_view_module": "@jupyter-widgets/controls",
            "_model_module_version": "1.5.0",
            "value": 313,
            "_view_count": null,
            "_view_module_version": "1.5.0",
            "orientation": "horizontal",
            "min": 0,
            "description_tooltip": null,
            "_model_module": "@jupyter-widgets/controls",
            "layout": "IPY_MODEL_11a1fa8aefe4426b96bed55fc55f0101"
          }
        },
        "c4f2282c6f3b437f85a0c9859a10ae88": {
          "model_module": "@jupyter-widgets/controls",
          "model_name": "HTMLModel",
          "state": {
            "_view_name": "HTMLView",
            "style": "IPY_MODEL_793a5bde36fe41ff9fc34f59918d77e5",
            "_dom_classes": [],
            "description": "",
            "_model_name": "HTMLModel",
            "placeholder": "​",
            "_view_module": "@jupyter-widgets/controls",
            "_model_module_version": "1.5.0",
            "value": " 313/313 [01:47&lt;00:00,  2.91it/s]",
            "_view_count": null,
            "_view_module_version": "1.5.0",
            "description_tooltip": null,
            "_model_module": "@jupyter-widgets/controls",
            "layout": "IPY_MODEL_5382f2cb555641bba9f53d5417b033b9"
          }
        },
        "fa170a1e1d014e88849f38c54a54c174": {
          "model_module": "@jupyter-widgets/controls",
          "model_name": "ProgressStyleModel",
          "state": {
            "_view_name": "StyleView",
            "_model_name": "ProgressStyleModel",
            "description_width": "initial",
            "_view_module": "@jupyter-widgets/base",
            "_model_module_version": "1.5.0",
            "_view_count": null,
            "_view_module_version": "1.2.0",
            "bar_color": null,
            "_model_module": "@jupyter-widgets/controls"
          }
        },
        "11a1fa8aefe4426b96bed55fc55f0101": {
          "model_module": "@jupyter-widgets/base",
          "model_name": "LayoutModel",
          "state": {
            "_view_name": "LayoutView",
            "grid_template_rows": null,
            "right": null,
            "justify_content": null,
            "_view_module": "@jupyter-widgets/base",
            "overflow": null,
            "_model_module_version": "1.2.0",
            "_view_count": null,
            "flex_flow": null,
            "width": null,
            "min_width": null,
            "border": null,
            "align_items": null,
            "bottom": null,
            "_model_module": "@jupyter-widgets/base",
            "top": null,
            "grid_column": null,
            "overflow_y": null,
            "overflow_x": null,
            "grid_auto_flow": null,
            "grid_area": null,
            "grid_template_columns": null,
            "flex": null,
            "_model_name": "LayoutModel",
            "justify_items": null,
            "grid_row": null,
            "max_height": null,
            "align_content": null,
            "visibility": null,
            "align_self": null,
            "height": null,
            "min_height": null,
            "padding": null,
            "grid_auto_rows": null,
            "grid_gap": null,
            "max_width": null,
            "order": null,
            "_view_module_version": "1.2.0",
            "grid_template_areas": null,
            "object_position": null,
            "object_fit": null,
            "grid_auto_columns": null,
            "margin": null,
            "display": null,
            "left": null
          }
        },
        "793a5bde36fe41ff9fc34f59918d77e5": {
          "model_module": "@jupyter-widgets/controls",
          "model_name": "DescriptionStyleModel",
          "state": {
            "_view_name": "StyleView",
            "_model_name": "DescriptionStyleModel",
            "description_width": "",
            "_view_module": "@jupyter-widgets/base",
            "_model_module_version": "1.5.0",
            "_view_count": null,
            "_view_module_version": "1.2.0",
            "_model_module": "@jupyter-widgets/controls"
          }
        },
        "5382f2cb555641bba9f53d5417b033b9": {
          "model_module": "@jupyter-widgets/base",
          "model_name": "LayoutModel",
          "state": {
            "_view_name": "LayoutView",
            "grid_template_rows": null,
            "right": null,
            "justify_content": null,
            "_view_module": "@jupyter-widgets/base",
            "overflow": null,
            "_model_module_version": "1.2.0",
            "_view_count": null,
            "flex_flow": null,
            "width": null,
            "min_width": null,
            "border": null,
            "align_items": null,
            "bottom": null,
            "_model_module": "@jupyter-widgets/base",
            "top": null,
            "grid_column": null,
            "overflow_y": null,
            "overflow_x": null,
            "grid_auto_flow": null,
            "grid_area": null,
            "grid_template_columns": null,
            "flex": null,
            "_model_name": "LayoutModel",
            "justify_items": null,
            "grid_row": null,
            "max_height": null,
            "align_content": null,
            "visibility": null,
            "align_self": null,
            "height": null,
            "min_height": null,
            "padding": null,
            "grid_auto_rows": null,
            "grid_gap": null,
            "max_width": null,
            "order": null,
            "_view_module_version": "1.2.0",
            "grid_template_areas": null,
            "object_position": null,
            "object_fit": null,
            "grid_auto_columns": null,
            "margin": null,
            "display": null,
            "left": null
          }
        }
      }
    }
  },
  "cells": [
    {
      "cell_type": "markdown",
      "metadata": {
        "id": "view-in-github",
        "colab_type": "text"
      },
      "source": [
        "<a href=\"https://colab.research.google.com/github/i-m-vivek/deep-learning-mini_projects/blob/master/Image_Jigsaw_Solver_PyTorch_Model_v1.ipynb\" target=\"_parent\"><img src=\"https://colab.research.google.com/assets/colab-badge.svg\" alt=\"Open In Colab\"/></a>"
      ]
    },
    {
      "cell_type": "code",
      "metadata": {
        "id": "A9kHZk44EsY1",
        "colab_type": "code",
        "colab": {}
      },
      "source": [
        "!unzip \"/content/drive/My Drive/Image Jigsaw Dataset/data_kept.zip\""
      ],
      "execution_count": 0,
      "outputs": []
    },
    {
      "cell_type": "code",
      "metadata": {
        "id": "NC_BI2LYChXL",
        "colab_type": "code",
        "colab": {}
      },
      "source": [
        "import torch \n",
        "import torch.nn.functional as F\n",
        "from torch import nn \n",
        "from torch.utils import data as torch_data \n",
        "from torchvision import models, transforms\n",
        "import torchvision\n",
        "\n",
        "from tqdm import tqdm_notebook\n",
        "from PIL import Image\n",
        "import pandas as pd\n",
        "import numpy as np \n",
        "import os \n",
        "import time\n",
        "import copy\n",
        "import matplotlib.pyplot as plt\n",
        "\n",
        "\n",
        "from sklearn.model_selection import train_test_split\n",
        "import warnings\n",
        "warnings.filterwarnings(\"ignore\")"
      ],
      "execution_count": 0,
      "outputs": []
    },
    {
      "cell_type": "code",
      "metadata": {
        "id": "yj697qBPDZVI",
        "colab_type": "code",
        "colab": {}
      },
      "source": [
        "class JigsawDataset(torch_data.Dataset):\n",
        "    \"\"\"Dataset for Jigsaw Solving Task for 2*2 peices Images. \n",
        "    The Dataset will output a Image and 4 Numbers corresponding to the position of the peices.\"\"\"\n",
        "\n",
        "    def __init__(self, df, root_dir, transform):\n",
        "        \"\"\"\n",
        "        Args: \n",
        "            df (pd.DataFrame): DataFrame with positions.\n",
        "            root_dir (string): Path to the dir. where all images are present.\n",
        "            transform (callable, optional): Optional transform to be applied\n",
        "                on a sample.\n",
        "        \"\"\"\n",
        "\n",
        "        self.df = df\n",
        "        self.root_dir = root_dir\n",
        "        self.transform = transform \n",
        "\n",
        "    def __len__(self):\n",
        "        return len(self.df)\n",
        "\n",
        "    def __getitem__(self, idx):\n",
        "        img_name = str(self.df.iloc[idx, 2])\n",
        "        img_name = \"0\"*(6 - len(img_name)) + img_name + \".jpg\"\n",
        "        img = Image.open(os.path.join(self.root_dir, img_name))\n",
        "\n",
        "        perm = self.df.iloc[idx, 3]\n",
        "\n",
        "        if self.transform is not None:\n",
        "            img = self.transform(img)\n",
        "\n",
        "        return {\"img\" : img, \n",
        "         \"perm1\": float(perm[2]),\n",
        "        \"perm2\" : float(perm[7]),\n",
        "        \"perm3\" : float(perm[12]),\n",
        "        \"perm4\" : float(perm[17])}"
      ],
      "execution_count": 0,
      "outputs": []
    },
    {
      "cell_type": "code",
      "metadata": {
        "id": "vQNJcpyZHvyE",
        "colab_type": "code",
        "colab": {}
      },
      "source": [
        "composed_transform = transforms.Compose([\n",
        "   transforms.ToTensor(),\n",
        "   transforms.Normalize((0.485, 0.456, 0.406), (0.229, 0.224, 0.225)),\n",
        "   transforms.RandomErasing(.3, )])"
      ],
      "execution_count": 0,
      "outputs": []
    },
    {
      "cell_type": "code",
      "metadata": {
        "id": "CzCGZGrRYCVF",
        "colab_type": "code",
        "colab": {}
      },
      "source": [
        "train = pd.read_csv(\"/content/drive/My Drive/Image Jigsaw Dataset/data_kept_50000.csv\")"
      ],
      "execution_count": 0,
      "outputs": []
    },
    {
      "cell_type": "code",
      "metadata": {
        "id": "b8wRfheAXtCn",
        "colab_type": "code",
        "colab": {}
      },
      "source": [
        "X_train, X_val = train_test_split(train, test_size= .2, random_state = 42, shuffle= True)"
      ],
      "execution_count": 0,
      "outputs": []
    },
    {
      "cell_type": "code",
      "metadata": {
        "id": "3p84qlzpYQTV",
        "colab_type": "code",
        "colab": {}
      },
      "source": [
        "train_dataset = JigsawDataset(df = X_train,\n",
        "                                           root_dir='/content/data_kept/',\n",
        "                                           transform=composed_transform)\n",
        "val_dataset = JigsawDataset(df = X_val, \n",
        "                                           root_dir='/content/data_kept/',\n",
        "                                           transform=composed_transform)"
      ],
      "execution_count": 0,
      "outputs": []
    },
    {
      "cell_type": "code",
      "metadata": {
        "id": "GA6qUhP4Yhps",
        "colab_type": "code",
        "colab": {}
      },
      "source": [
        "trainloader = torch_data.DataLoader(train_dataset, batch_size= 16, shuffle=True)\n",
        "valloader = torch_data.DataLoader(val_dataset, batch_size= 32, shuffle=False)\n",
        "\n",
        "dataloaders = {\"train\": trainloader, \n",
        "               \"val\": valloader}\n",
        "dataset_sizes = {\"train\":  len(train_dataset), \n",
        "                 \"val\": len(val_dataset)}"
      ],
      "execution_count": 0,
      "outputs": []
    },
    {
      "cell_type": "code",
      "metadata": {
        "id": "JuOANx8GhrFm",
        "colab_type": "code",
        "colab": {}
      },
      "source": [
        "def imshow(inp, title=None):\n",
        "    \"\"\"Imshow for Tensor.\"\"\"\n",
        "    inp = inp.numpy().transpose((1, 2, 0))\n",
        "    mean = np.array([0.485, 0.456, 0.406])\n",
        "    std = np.array([0.229, 0.224, 0.225])\n",
        "    inp = std * inp + mean\n",
        "    inp = np.clip(inp, 0, 1)\n",
        "    plt.imshow(inp)"
      ],
      "execution_count": 0,
      "outputs": []
    },
    {
      "cell_type": "code",
      "metadata": {
        "id": "yu-rIwWWebtp",
        "colab_type": "code",
        "colab": {
          "base_uri": "https://localhost:8080/",
          "height": 136
        },
        "outputId": "93377fdf-2448-4c2d-c30d-1df2fa57e456"
      },
      "source": [
        "sample = next(iter(trainloader))\n",
        "out = torchvision.utils.make_grid(sample[\"img\"])\n",
        "imshow(out)"
      ],
      "execution_count": 33,
      "outputs": [
        {
          "output_type": "display_data",
          "data": {
            "image/png": "[encoded data removed]",
            "text/plain": [
              "<Figure size 432x288 with 1 Axes>"
            ]
          },
          "metadata": {
            "tags": [],
            "needs_background": "light"
          }
        }
      ]
    },
    {
      "cell_type": "code",
      "metadata": {
        "id": "O8itlWeyHvsu",
        "colab_type": "code",
        "outputId": "ecc28a6d-28f4-4984-daf0-5d3c30079ed2",
        "colab": {
          "base_uri": "https://localhost:8080/",
          "height": 90
        }
      },
      "source": [
        "# transformed_dataset = JigsawDataset(csv_file=\"/content/drive/My Drive/Image Jigsaw Dataset/data_kept_50000.csv\",\n",
        "#                                            root_dir='/content/data_kept/',\n",
        "#                                            transform=composed_transform)\n",
        "# for i in range(len(transformed_dataset)):\n",
        "#     sample = transformed_dataset[i]\n",
        "\n",
        "#     print(i, sample['img'].size(), sample[\"perm1\"], sample[\"perm2\"], sample[\"perm3\"], sample[\"perm4\"])\n",
        "\n",
        "#     if i == 3:\n",
        "#         break"
      ],
      "execution_count": 0,
      "outputs": [
        {
          "output_type": "stream",
          "text": [
            "0 torch.Size([3, 178, 178]) 3 2 1 0\n",
            "1 torch.Size([3, 178, 178]) 0 2 1 3\n",
            "2 torch.Size([3, 178, 178]) 1 3 2 0\n",
            "3 torch.Size([3, 178, 178]) 0 1 3 2\n"
          ],
          "name": "stdout"
        }
      ]
    },
    {
      "cell_type": "code",
      "metadata": {
        "id": "9H5vSHySHvoN",
        "colab_type": "code",
        "colab": {}
      },
      "source": [
        "class Net(nn.Module):\n",
        "    def __init__(self, ):\n",
        "        super(Net, self).__init__()\n",
        "        self.vgg = models.vgg16_bn(pretrained=True)\n",
        "        self.dropout = nn.Dropout(.4)\n",
        "        self.Linear = nn.Linear(1000, 512)\n",
        "        self.fc1 = nn.Linear(512, 4)\n",
        "        self.fc2 = nn.Linear(512, 4)\n",
        "        self.fc3 = nn.Linear(512, 4)\n",
        "        self.fc4 = nn.Linear(512, 4)\n",
        "\n",
        "    def forward(self, x):\n",
        "        x = self.dropout(F.relu(self.vgg(x)))\n",
        "        x = self.Linear(x)\n",
        "        x1 = self.fc1(x)\n",
        "        x2 = self.fc2(x)\n",
        "        x3 = self.fc3(x)\n",
        "        x4 = self.fc4(x)\n",
        "\n",
        "        return x1, x2, x3, x4\n",
        "    "
      ],
      "execution_count": 0,
      "outputs": []
    },
    {
      "cell_type": "code",
      "metadata": {
        "id": "wQWjbGB4dYXC",
        "colab_type": "code",
        "colab": {}
      },
      "source": [
        "device = torch.device(\"cuda:0\" if torch.cuda.is_available() else \"cpu\")"
      ],
      "execution_count": 0,
      "outputs": []
    },
    {
      "cell_type": "code",
      "metadata": {
        "id": "1BoX3t5uWrSf",
        "colab_type": "code",
        "colab": {
          "base_uri": "https://localhost:8080/",
          "height": 105,
          "referenced_widgets": [
            "eda10804424d43a19fb26dce1bc111ab",
            "2a694e3b4311474a9c4f3176b6f530ce",
            "651d29595e0c4eb2b9eaeb726753784a",
            "9d9f712fa3234fb58f5fd5899df442ca",
            "e03264e13b7b4078bb42d0a40d580784",
            "86eac99867464fbcbfb2e889f3a1256e",
            "e92453c0e7e34776bb4c2b766bc5af4d",
            "97a145d5f94c44aab13ee57f431ddc2a"
          ]
        },
        "outputId": "c2750e24-e9ad-4fc5-f667-fa0006dc9c73"
      },
      "source": [
        "net = Net().to(device)"
      ],
      "execution_count": 36,
      "outputs": [
        {
          "output_type": "stream",
          "text": [
            "Downloading: \"https://download.pytorch.org/models/vgg16_bn-6c64b313.pth\" to /root/.cache/torch/checkpoints/vgg16_bn-6c64b313.pth\n"
          ],
          "name": "stderr"
        },
        {
          "output_type": "display_data",
          "data": {
            "application/vnd.jupyter.widget-view+json": {
              "model_id": "eda10804424d43a19fb26dce1bc111ab",
              "version_minor": 0,
              "version_major": 2
            },
            "text/plain": [
              "HBox(children=(IntProgress(value=0, max=553507836), HTML(value='')))"
            ]
          },
          "metadata": {
            "tags": []
          }
        },
        {
          "output_type": "stream",
          "text": [
            "\n"
          ],
          "name": "stdout"
        }
      ]
    },
    {
      "cell_type": "code",
      "metadata": {
        "id": "2NCeb4OJHve5",
        "colab_type": "code",
        "outputId": "8d3dc04a-9e8b-4398-a053-44faf1c6cc93",
        "colab": {
          "base_uri": "https://localhost:8080/",
          "height": 1000
        }
      },
      "source": [
        "# from torchsummary import summary\n",
        "# summary(net, (3, 178, 178))"
      ],
      "execution_count": 0,
      "outputs": [
        {
          "output_type": "stream",
          "text": [
            "----------------------------------------------------------------\n",
            "        Layer (type)               Output Shape         Param #\n",
            "================================================================\n",
            "            Conv2d-1         [-1, 64, 178, 178]           1,792\n",
            "       BatchNorm2d-2         [-1, 64, 178, 178]             128\n",
            "              ReLU-3         [-1, 64, 178, 178]               0\n",
            "            Conv2d-4         [-1, 64, 178, 178]          36,928\n",
            "       BatchNorm2d-5         [-1, 64, 178, 178]             128\n",
            "              ReLU-6         [-1, 64, 178, 178]               0\n",
            "         MaxPool2d-7           [-1, 64, 89, 89]               0\n",
            "            Conv2d-8          [-1, 128, 89, 89]          73,856\n",
            "       BatchNorm2d-9          [-1, 128, 89, 89]             256\n",
            "             ReLU-10          [-1, 128, 89, 89]               0\n",
            "           Conv2d-11          [-1, 128, 89, 89]         147,584\n",
            "      BatchNorm2d-12          [-1, 128, 89, 89]             256\n",
            "             ReLU-13          [-1, 128, 89, 89]               0\n",
            "        MaxPool2d-14          [-1, 128, 44, 44]               0\n",
            "           Conv2d-15          [-1, 256, 44, 44]         295,168\n",
            "      BatchNorm2d-16          [-1, 256, 44, 44]             512\n",
            "             ReLU-17          [-1, 256, 44, 44]               0\n",
            "           Conv2d-18          [-1, 256, 44, 44]         590,080\n",
            "      BatchNorm2d-19          [-1, 256, 44, 44]             512\n",
            "             ReLU-20          [-1, 256, 44, 44]               0\n",
            "           Conv2d-21          [-1, 256, 44, 44]         590,080\n",
            "      BatchNorm2d-22          [-1, 256, 44, 44]             512\n",
            "             ReLU-23          [-1, 256, 44, 44]               0\n",
            "        MaxPool2d-24          [-1, 256, 22, 22]               0\n",
            "           Conv2d-25          [-1, 512, 22, 22]       1,180,160\n",
            "      BatchNorm2d-26          [-1, 512, 22, 22]           1,024\n",
            "             ReLU-27          [-1, 512, 22, 22]               0\n",
            "           Conv2d-28          [-1, 512, 22, 22]       2,359,808\n",
            "      BatchNorm2d-29          [-1, 512, 22, 22]           1,024\n",
            "             ReLU-30          [-1, 512, 22, 22]               0\n",
            "           Conv2d-31          [-1, 512, 22, 22]       2,359,808\n",
            "      BatchNorm2d-32          [-1, 512, 22, 22]           1,024\n",
            "             ReLU-33          [-1, 512, 22, 22]               0\n",
            "        MaxPool2d-34          [-1, 512, 11, 11]               0\n",
            "           Conv2d-35          [-1, 512, 11, 11]       2,359,808\n",
            "      BatchNorm2d-36          [-1, 512, 11, 11]           1,024\n",
            "             ReLU-37          [-1, 512, 11, 11]               0\n",
            "           Conv2d-38          [-1, 512, 11, 11]       2,359,808\n",
            "      BatchNorm2d-39          [-1, 512, 11, 11]           1,024\n",
            "             ReLU-40          [-1, 512, 11, 11]               0\n",
            "           Conv2d-41          [-1, 512, 11, 11]       2,359,808\n",
            "      BatchNorm2d-42          [-1, 512, 11, 11]           1,024\n",
            "             ReLU-43          [-1, 512, 11, 11]               0\n",
            "        MaxPool2d-44            [-1, 512, 5, 5]               0\n",
            "AdaptiveAvgPool2d-45            [-1, 512, 7, 7]               0\n",
            "           Linear-46                 [-1, 4096]     102,764,544\n",
            "             ReLU-47                 [-1, 4096]               0\n",
            "          Dropout-48                 [-1, 4096]               0\n",
            "           Linear-49                 [-1, 4096]      16,781,312\n",
            "             ReLU-50                 [-1, 4096]               0\n",
            "          Dropout-51                 [-1, 4096]               0\n",
            "           Linear-52                 [-1, 1000]       4,097,000\n",
            "              VGG-53                 [-1, 1000]               0\n",
            "          Dropout-54                 [-1, 1000]               0\n",
            "           Linear-55                  [-1, 512]         512,512\n",
            "           Linear-56                    [-1, 4]           2,052\n",
            "           Linear-57                    [-1, 4]           2,052\n",
            "           Linear-58                    [-1, 4]           2,052\n",
            "           Linear-59                    [-1, 4]           2,052\n",
            "================================================================\n",
            "Total params: 138,886,712\n",
            "Trainable params: 138,886,712\n",
            "Non-trainable params: 0\n",
            "----------------------------------------------------------------\n",
            "Input size (MB): 0.36\n",
            "Forward/backward pass size (MB): 202.22\n",
            "Params size (MB): 529.81\n",
            "Estimated Total Size (MB): 732.39\n",
            "----------------------------------------------------------------\n"
          ],
          "name": "stdout"
        }
      ]
    },
    {
      "cell_type": "code",
      "metadata": {
        "id": "HuIn3ufaHveH",
        "colab_type": "code",
        "colab": {}
      },
      "source": [
        "import torch.optim as optim\n",
        "\n",
        "criterion = nn.CrossEntropyLoss()\n",
        "optimizer = optim.Adam(net.parameters(), lr= .0001)"
      ],
      "execution_count": 0,
      "outputs": []
    },
    {
      "cell_type": "code",
      "metadata": {
        "id": "ncv9QUNIHvX6",
        "colab_type": "code",
        "colab": {}
      },
      "source": [
        "def train_model(model, criterion, optimizer, num_epochs=25):\n",
        "    since = time.time()\n",
        "\n",
        "    best_model_wts = copy.deepcopy(model.state_dict())\n",
        "    best_acc = 0.0\n",
        "\n",
        "    for epoch in range(num_epochs):\n",
        "        print('Epoch {}/{}'.format(epoch, num_epochs - 1))\n",
        "        print('-' * 10)\n",
        "\n",
        "        # Each epoch has a training and validation phase\n",
        "        for phase in ['train', 'val']:\n",
        "            if phase == 'train':\n",
        "                model.train()  # Set model to training mode\n",
        "            else:\n",
        "                model.eval()   # Set model to evaluate mode\n",
        "\n",
        "            running_loss = 0.0\n",
        "            running_corrects = 0\n",
        "\n",
        "            # Iterate over data.\n",
        "            for inp_data in tqdm_notebook(dataloaders[phase]):\n",
        "                inputs = inp_data[\"img\"].to(device)\n",
        "\n",
        "                label1 = inp_data[\"perm1\"].to(device)\n",
        "                label2 = inp_data[\"perm2\"].to(device)\n",
        "                label3 = inp_data[\"perm3\"].to(device)\n",
        "                label4 = inp_data[\"perm4\"].to(device)\n",
        "\n",
        "                # zero the parameter gradients\n",
        "                optimizer.zero_grad()\n",
        "\n",
        "                # forward\n",
        "                # track history if only in train\n",
        "                with torch.set_grad_enabled(phase == 'train'):\n",
        "                    out1, out2, out3, out4 = model(inputs)\n",
        "                    _, preds1 = torch.max(out1, 1)\n",
        "                    _, preds2 = torch.max(out2, 1)\n",
        "                    _, preds3 = torch.max(out3, 1)\n",
        "                    _, preds4 = torch.max(out4, 1)\n",
        "                    loss = criterion(out1, label1.long()) + criterion(out2, label2.long()) + criterion(out3, label3.long()) + criterion(out4, label4.long())\n",
        "\n",
        "                    # backward + optimize only if in training phase\n",
        "                    if phase == 'train':\n",
        "                        loss.backward()\n",
        "                        optimizer.step()\n",
        "\n",
        "                # statistics\n",
        "                running_loss += loss.item() * inputs.size(0)\n",
        "                running_corrects += (torch.sum(preds1 == label1.data) + torch.sum(preds2 == label2.data) + torch.sum(preds3 == label3.data)+ torch.sum(preds4 == label4.data))/4\n",
        "            # if phase == 'train':\n",
        "            #     scheduler.step()\n",
        "\n",
        "            epoch_loss = running_loss / dataset_sizes[phase]\n",
        "            epoch_acc = running_corrects.double() / dataset_sizes[phase]\n",
        "\n",
        "            print('{} Loss: {:.4f} Acc: {:.4f}'.format(\n",
        "                phase, epoch_loss, epoch_acc))\n",
        "\n",
        "            # deep copy the model\n",
        "            if phase == 'val' and epoch_acc > best_acc:\n",
        "                best_acc = epoch_acc\n",
        "                best_model_wts = copy.deepcopy(model.state_dict())\n",
        "\n",
        "        print()\n",
        "\n",
        "    time_elapsed = time.time() - since\n",
        "    print('Training complete in {:.0f}m {:.0f}s'.format(\n",
        "        time_elapsed // 60, time_elapsed % 60))\n",
        "    print('Best val Acc: {:4f}'.format(best_acc))\n",
        "\n",
        "    # load best model weights\n",
        "    model.load_state_dict(best_model_wts)\n",
        "    return model"
      ],
      "execution_count": 0,
      "outputs": []
    },
    {
      "cell_type": "code",
      "metadata": {
        "id": "THPQnrztHvVb",
        "colab_type": "code",
        "outputId": "dbd42086-e156-41d0-d0d8-74e8858662a5",
        "colab": {
          "base_uri": "https://localhost:8080/",
          "height": 245,
          "referenced_widgets": [
            "cede67eafc814ce187e0d74429acb1ee",
            "6d45f049b5b0467981313553d9ec547e",
            "bc832c290795479eb8a6bd708b7193b4",
            "96ee72ef322a430783fc7b601341ed34",
            "57f346d288ab4f3fb885b7f81a4aa5ce",
            "ff4d4e1daf44413aa64ef7a79b0c8fb2",
            "b32918586cad45b79b8a459066274bd3",
            "8539127f9d234d5e87b615292db0a047",
            "23dcf7edbe194923ad06bf088a495575",
            "d1cfc8ef647a4532b8574ea5404a6e82",
            "f372b4a4114945169f60a374cec008fb",
            "c4f2282c6f3b437f85a0c9859a10ae88",
            "fa170a1e1d014e88849f38c54a54c174",
            "11a1fa8aefe4426b96bed55fc55f0101",
            "793a5bde36fe41ff9fc34f59918d77e5",
            "5382f2cb555641bba9f53d5417b033b9"
          ]
        }
      },
      "source": [
        "model_ft = train_model(net, criterion, optimizer, num_epochs=1)"
      ],
      "execution_count": 45,
      "outputs": [
        {
          "output_type": "stream",
          "text": [
            "Epoch 0/0\n",
            "----------\n"
          ],
          "name": "stdout"
        },
        {
          "output_type": "display_data",
          "data": {
            "application/vnd.jupyter.widget-view+json": {
              "model_id": "cede67eafc814ce187e0d74429acb1ee",
              "version_minor": 0,
              "version_major": 2
            },
            "text/plain": [
              "HBox(children=(IntProgress(value=0, max=2500), HTML(value='')))"
            ]
          },
          "metadata": {
            "tags": []
          }
        },
        {
          "output_type": "stream",
          "text": [
            "\n",
            "train Loss: 0.0238 Acc: 0.9957\n"
          ],
          "name": "stdout"
        },
        {
          "output_type": "display_data",
          "data": {
            "application/vnd.jupyter.widget-view+json": {
              "model_id": "23dcf7edbe194923ad06bf088a495575",
              "version_minor": 0,
              "version_major": 2
            },
            "text/plain": [
              "HBox(children=(IntProgress(value=0, max=313), HTML(value='')))"
            ]
          },
          "metadata": {
            "tags": []
          }
        },
        {
          "output_type": "stream",
          "text": [
            "\n",
            "val Loss: 0.0087 Acc: 0.9984\n",
            "\n",
            "Training complete in 7m 22s\n",
            "Best val Acc: 0.998400\n"
          ],
          "name": "stdout"
        }
      ]
    },
    {
      "cell_type": "code",
      "metadata": {
        "id": "sPVb_daR3jHo",
        "colab_type": "code",
        "colab": {}
      },
      "source": [
        "sample_loader = torch_data.DataLoader(val_dataset, batch_size= 4, shuffle=False)"
      ],
      "execution_count": 0,
      "outputs": []
    },
    {
      "cell_type": "code",
      "metadata": {
        "id": "7YfYnhVc3mw_",
        "colab_type": "code",
        "colab": {}
      },
      "source": [
        "sample_iter = iter(sample_loader)"
      ],
      "execution_count": 0,
      "outputs": []
    },
    {
      "cell_type": "code",
      "metadata": {
        "id": "aIhAdcSl3qV0",
        "colab_type": "code",
        "colab": {}
      },
      "source": [
        "sample_data = next(sample_iter)"
      ],
      "execution_count": 0,
      "outputs": []
    },
    {
      "cell_type": "code",
      "metadata": {
        "id": "TMXRfTrf3vwb",
        "colab_type": "code",
        "colab": {
          "base_uri": "https://localhost:8080/",
          "height": 1000
        },
        "outputId": "341f3484-13d5-4a70-c742-dfcc609cf652"
      },
      "source": [
        "sample_data"
      ],
      "execution_count": 50,
      "outputs": [
        {
          "output_type": "execute_result",
          "data": {
            "text/plain": [
              "{'img': tensor([[[[ 1.6324,  1.6324,  1.6324,  ...,  2.0605,  1.9064,  1.9064],\n",
              "           [ 1.6324,  1.6324,  1.6153,  ...,  1.9578,  1.9578,  1.9578],\n",
              "           [ 1.6324,  1.6153,  1.6153,  ...,  1.9920,  2.0605,  2.0605],\n",
              "           ...,\n",
              "           [ 2.0605,  2.0605,  1.9920,  ...,  1.6495,  1.5639,  1.5639],\n",
              "           [ 1.9749,  1.9407,  1.8893,  ...,  1.4954,  1.4269,  1.4098],\n",
              "           [ 1.9749,  1.9407,  1.8893,  ...,  1.4954,  1.4269,  1.4098]],\n",
              " \n",
              "          [[ 1.8859,  1.8859,  1.8859,  ...,  1.4832,  1.4132,  1.4132],\n",
              "           [ 1.8859,  1.8859,  1.8683,  ...,  1.4657,  1.5182,  1.5182],\n",
              "           [ 1.8859,  1.8683,  1.8683,  ...,  1.5882,  1.6232,  1.6232],\n",
              "           ...,\n",
              "           [ 2.1310,  2.1660,  2.1310,  ...,  0.9405,  0.9230,  0.9230],\n",
              "           [ 2.2185,  2.1835,  2.1310,  ...,  0.8354,  0.7829,  0.7654],\n",
              "           [ 2.2185,  2.1835,  2.1310,  ...,  0.8354,  0.7829,  0.7654]],\n",
              " \n",
              "          [[ 2.0300,  2.0300,  2.0300,  ...,  1.5420,  1.6117,  1.6117],\n",
              "           [ 2.0300,  2.0300,  2.0125,  ...,  1.5245,  1.6988,  1.6988],\n",
              "           [ 2.0300,  2.0125,  2.0125,  ...,  1.6465,  1.8034,  1.8034],\n",
              "           ...,\n",
              "           [ 2.3437,  2.3611,  2.3611,  ...,  0.7228,  0.7228,  0.7228],\n",
              "           [ 2.4134,  2.3786,  2.3263,  ...,  0.6008,  0.5485,  0.5311],\n",
              "           [ 2.4134,  2.3786,  2.3263,  ...,  0.6008,  0.5485,  0.5311]]],\n",
              " \n",
              " \n",
              "         [[[-2.0494, -2.0665, -2.0665,  ..., -2.1179, -2.1179, -2.1179],\n",
              "           [-2.0494, -2.0665, -2.0665,  ..., -2.1179, -2.1179, -2.1179],\n",
              "           [-2.0494, -2.0665, -2.0665,  ..., -2.1179, -2.1179, -2.1179],\n",
              "           ...,\n",
              "           [ 0.9303,  1.3755,  1.5982,  ...,  1.1700,  1.1529,  1.1529],\n",
              "           [ 0.9817,  1.2557,  1.4783,  ...,  1.2043,  1.1187,  1.0844],\n",
              "           [ 0.9817,  1.2557,  1.4783,  ...,  1.2043,  1.1187,  1.0844]],\n",
              " \n",
              "          [[-2.0357, -2.0357, -2.0357,  ..., -2.0357, -2.0357, -2.0357],\n",
              "           [-2.0357, -2.0357, -2.0357,  ..., -2.0357, -2.0357, -2.0357],\n",
              "           [-2.0357, -2.0357, -2.0357,  ..., -2.0357, -2.0357, -2.0357],\n",
              "           ...,\n",
              "           [ 0.4853,  1.0105,  1.3957,  ...,  0.6779,  0.7304,  0.7304],\n",
              "           [ 0.6954,  1.0455,  1.3957,  ...,  0.7479,  0.7304,  0.6954],\n",
              "           [ 0.6954,  1.0455,  1.3957,  ...,  0.7479,  0.7304,  0.6954]],\n",
              " \n",
              "          [[-1.8044, -1.8044, -1.8044,  ..., -1.8044, -1.8044, -1.8044],\n",
              "           [-1.8044, -1.8044, -1.8044,  ..., -1.8044, -1.8044, -1.8044],\n",
              "           [-1.8044, -1.8044, -1.8044,  ..., -1.8044, -1.8044, -1.8044],\n",
              "           ...,\n",
              "           [ 0.4962,  1.0539,  1.5245,  ...,  0.1651,  0.3393,  0.3393],\n",
              "           [ 0.5659,  0.9668,  1.4200,  ...,  0.2348,  0.4439,  0.4091],\n",
              "           [ 0.5659,  0.9668,  1.4200,  ...,  0.2348,  0.4439,  0.4091]]],\n",
              " \n",
              " \n",
              "         [[[-1.5870, -1.6042, -1.6213,  ..., -1.7583, -1.6213, -1.5870],\n",
              "           [-1.5870, -1.6042, -1.6213,  ..., -1.7583, -1.6384, -1.6042],\n",
              "           [-1.5870, -1.6042, -1.6213,  ..., -1.7754, -1.6384, -1.6042],\n",
              "           ...,\n",
              "           [-1.7240, -1.7240, -1.7240,  ..., -1.5699, -1.7069, -1.7069],\n",
              "           [-1.7583, -1.7412, -1.7412,  ..., -1.5014, -1.5699, -1.5699],\n",
              "           [-1.7583, -1.7412, -1.7412,  ..., -1.5014, -1.5699, -1.5699]],\n",
              " \n",
              "          [[-1.6681, -1.6856, -1.7031,  ..., -1.6681, -1.7031, -1.6681],\n",
              "           [-1.6681, -1.6856, -1.7031,  ..., -1.6681, -1.7206, -1.6856],\n",
              "           [-1.6681, -1.6856, -1.7031,  ..., -1.6856, -1.7206, -1.6856],\n",
              "           ...,\n",
              "           [-1.5980, -1.5980, -1.5980,  ..., -1.4405, -1.5630, -1.5630],\n",
              "           [-1.6331, -1.6155, -1.6155,  ..., -1.3704, -1.4405, -1.4405],\n",
              "           [-1.6331, -1.6155, -1.6155,  ..., -1.3704, -1.4405, -1.4405]],\n",
              " \n",
              "          [[-1.4559, -1.4733, -1.4907,  ..., -1.4384, -1.4559, -1.4210],\n",
              "           [-1.4559, -1.4733, -1.4907,  ..., -1.4384, -1.4733, -1.4384],\n",
              "           [-1.4559, -1.4733, -1.4907,  ..., -1.4559, -1.4733, -1.4384],\n",
              "           ...,\n",
              "           [-1.1596, -1.1596, -1.1596,  ..., -0.9504, -1.0376, -1.0376],\n",
              "           [-1.1944, -1.1770, -1.1770,  ..., -0.9156, -1.0027, -1.0027],\n",
              "           [-1.1944, -1.1770, -1.1770,  ..., -0.9156, -1.0027, -1.0027]]],\n",
              " \n",
              " \n",
              "         [[[ 1.7694,  1.7865,  1.8550,  ...,  2.2489,  2.2489,  2.2489],\n",
              "           [ 1.7523,  1.7865,  1.8550,  ...,  2.2489,  2.2489,  2.2489],\n",
              "           [ 1.7865,  1.8208,  1.8379,  ...,  2.2489,  2.2489,  2.2489],\n",
              "           ...,\n",
              "           [ 0.0056, -0.0116,  0.0056,  ...,  0.7762,  1.3413,  1.3927],\n",
              "           [-0.0116, -0.0287, -0.0287,  ...,  0.4851,  1.0502,  1.3755],\n",
              "           [-0.0116, -0.0287, -0.0287,  ...,  0.4851,  1.0502,  1.3755]],\n",
              " \n",
              "          [[ 0.8880,  0.9580,  1.0280,  ...,  2.3936,  2.4286,  2.4286],\n",
              "           [ 0.9230,  0.9580,  1.0280,  ...,  2.3936,  2.4286,  2.4286],\n",
              "           [ 0.9580,  0.9930,  1.0455,  ...,  2.3936,  2.4286,  2.4286],\n",
              "           ...,\n",
              "           [-0.6877, -0.7052, -0.7227,  ..., -0.0049,  0.4153,  0.4678],\n",
              "           [-0.6702, -0.6877, -0.6877,  ..., -0.3901, -0.0574,  0.2752],\n",
              "           [-0.6702, -0.6877, -0.6877,  ..., -0.3901, -0.0574,  0.2752]],\n",
              " \n",
              "          [[ 0.6182,  0.6705,  0.7228,  ...,  2.6226,  2.6400,  2.6400],\n",
              "           [ 0.6356,  0.6705,  0.7228,  ...,  2.6226,  2.6400,  2.6400],\n",
              "           [ 0.6705,  0.7054,  0.7228,  ...,  2.6226,  2.6400,  2.6400],\n",
              "           ...,\n",
              "           [-0.7761, -0.7936, -0.7936,  ...,  0.0779,  0.1999,  0.2522],\n",
              "           [-0.7761, -0.7936, -0.7936,  ..., -0.3578, -0.0790,  0.2522],\n",
              "           [-0.7761, -0.7936, -0.7936,  ..., -0.3578, -0.0790,  0.2522]]]]),\n",
              " 'perm1': tensor([1., 0., 1., 2.], dtype=torch.float64),\n",
              " 'perm2': tensor([3., 1., 0., 1.], dtype=torch.float64),\n",
              " 'perm3': tensor([0., 3., 2., 3.], dtype=torch.float64),\n",
              " 'perm4': tensor([2., 2., 3., 0.], dtype=torch.float64)}"
            ]
          },
          "metadata": {
            "tags": []
          },
          "execution_count": 50
        }
      ]
    },
    {
      "cell_type": "code",
      "metadata": {
        "id": "gEdZFT9tySD_",
        "colab_type": "code",
        "colab": {}
      },
      "source": [
        "sample_preds = model_ft(sample_data[\"img\"].to(device))"
      ],
      "execution_count": 0,
      "outputs": []
    },
    {
      "cell_type": "code",
      "metadata": {
        "id": "mBc28XmGzIzc",
        "colab_type": "code",
        "colab": {}
      },
      "source": [
        "_, sample_preds_ = torch.max((sample_preds[3]), 1)"
      ],
      "execution_count": 0,
      "outputs": []
    },
    {
      "cell_type": "code",
      "metadata": {
        "id": "CUV5-dJuaS49",
        "colab_type": "code",
        "colab": {
          "base_uri": "https://localhost:8080/",
          "height": 35
        },
        "outputId": "024a7b08-6d00-490f-dd90-82d801dcc167"
      },
      "source": [
        "sample_preds_"
      ],
      "execution_count": 66,
      "outputs": [
        {
          "output_type": "execute_result",
          "data": {
            "text/plain": [
              "tensor([2, 2, 3, 0], device='cuda:0')"
            ]
          },
          "metadata": {
            "tags": []
          },
          "execution_count": 66
        }
      ]
    },
    {
      "cell_type": "code",
      "metadata": {
        "id": "vxMEYZSoy3RE",
        "colab_type": "code",
        "colab": {}
      },
      "source": [
        ""
      ],
      "execution_count": 0,
      "outputs": []
    }
  ]
}