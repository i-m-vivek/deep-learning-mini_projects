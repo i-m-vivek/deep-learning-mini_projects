{
  "nbformat": 4,
  "nbformat_minor": 0,
  "metadata": {
    "colab": {
      "name": "Image Jigsaw Solver - PyTorch Model 3*3 v1",
      "provenance": [],
      "collapsed_sections": [],
      "mount_file_id": "1-1m35mlwCDOmRT_Zd-5V3b3W_YByaj-8",
      "authorship_tag": "ABX9TyPoh03nfwEmDTtZn+OpG4BZ",
      "include_colab_link": true
    },
    "kernelspec": {
      "name": "python3",
      "display_name": "Python 3"
    },
    "accelerator": "GPU",
    "widgets": {
      "application/vnd.jupyter.widget-state+json": {
        "97cf870b101e4998a7746fe4f6827967": {
          "model_module": "@jupyter-widgets/controls",
          "model_name": "HBoxModel",
          "state": {
            "_view_name": "HBoxView",
            "_dom_classes": [],
            "_model_name": "HBoxModel",
            "_view_module": "@jupyter-widgets/controls",
            "_model_module_version": "1.5.0",
            "_view_count": null,
            "_view_module_version": "1.5.0",
            "box_style": "",
            "layout": "IPY_MODEL_4935baceaa544fcf98093acc1a3dc6bb",
            "_model_module": "@jupyter-widgets/controls",
            "children": [
              "IPY_MODEL_aa261ae79d774894baf3029604dace71",
              "IPY_MODEL_7417dedcf7b043068e147258479b95da"
            ]
          }
        },
        "4935baceaa544fcf98093acc1a3dc6bb": {
          "model_module": "@jupyter-widgets/base",
          "model_name": "LayoutModel",
          "state": {
            "_view_name": "LayoutView",
            "grid_template_rows": null,
            "right": null,
            "justify_content": null,
            "_view_module": "@jupyter-widgets/base",
            "overflow": null,
            "_model_module_version": "1.2.0",
            "_view_count": null,
            "flex_flow": null,
            "width": null,
            "min_width": null,
            "border": null,
            "align_items": null,
            "bottom": null,
            "_model_module": "@jupyter-widgets/base",
            "top": null,
            "grid_column": null,
            "overflow_y": null,
            "overflow_x": null,
            "grid_auto_flow": null,
            "grid_area": null,
            "grid_template_columns": null,
            "flex": null,
            "_model_name": "LayoutModel",
            "justify_items": null,
            "grid_row": null,
            "max_height": null,
            "align_content": null,
            "visibility": null,
            "align_self": null,
            "height": null,
            "min_height": null,
            "padding": null,
            "grid_auto_rows": null,
            "grid_gap": null,
            "max_width": null,
            "order": null,
            "_view_module_version": "1.2.0",
            "grid_template_areas": null,
            "object_position": null,
            "object_fit": null,
            "grid_auto_columns": null,
            "margin": null,
            "display": null,
            "left": null
          }
        },
        "aa261ae79d774894baf3029604dace71": {
          "model_module": "@jupyter-widgets/controls",
          "model_name": "IntProgressModel",
          "state": {
            "_view_name": "ProgressView",
            "style": "IPY_MODEL_a2434a70dddb4f96a9fd41b0282b2fb4",
            "_dom_classes": [],
            "description": "100%",
            "_model_name": "IntProgressModel",
            "bar_style": "success",
            "max": 178728960,
            "_view_module": "@jupyter-widgets/controls",
            "_model_module_version": "1.5.0",
            "value": 178728960,
            "_view_count": null,
            "_view_module_version": "1.5.0",
            "orientation": "horizontal",
            "min": 0,
            "description_tooltip": null,
            "_model_module": "@jupyter-widgets/controls",
            "layout": "IPY_MODEL_6831e0698dee4da1a755bed00bd1c5b8"
          }
        },
        "7417dedcf7b043068e147258479b95da": {
          "model_module": "@jupyter-widgets/controls",
          "model_name": "HTMLModel",
          "state": {
            "_view_name": "HTMLView",
            "style": "IPY_MODEL_1a7a06cba9b8431495863867eb25a8c7",
            "_dom_classes": [],
            "description": "",
            "_model_name": "HTMLModel",
            "placeholder": "​",
            "_view_module": "@jupyter-widgets/controls",
            "_model_module_version": "1.5.0",
            "value": " 170M/170M [00:01&lt;00:00, 99.2MB/s]",
            "_view_count": null,
            "_view_module_version": "1.5.0",
            "description_tooltip": null,
            "_model_module": "@jupyter-widgets/controls",
            "layout": "IPY_MODEL_204a656b0e454c569be5c9da8c6c3ccb"
          }
        },
        "a2434a70dddb4f96a9fd41b0282b2fb4": {
          "model_module": "@jupyter-widgets/controls",
          "model_name": "ProgressStyleModel",
          "state": {
            "_view_name": "StyleView",
            "_model_name": "ProgressStyleModel",
            "description_width": "initial",
            "_view_module": "@jupyter-widgets/base",
            "_model_module_version": "1.5.0",
            "_view_count": null,
            "_view_module_version": "1.2.0",
            "bar_color": null,
            "_model_module": "@jupyter-widgets/controls"
          }
        },
        "6831e0698dee4da1a755bed00bd1c5b8": {
          "model_module": "@jupyter-widgets/base",
          "model_name": "LayoutModel",
          "state": {
            "_view_name": "LayoutView",
            "grid_template_rows": null,
            "right": null,
            "justify_content": null,
            "_view_module": "@jupyter-widgets/base",
            "overflow": null,
            "_model_module_version": "1.2.0",
            "_view_count": null,
            "flex_flow": null,
            "width": null,
            "min_width": null,
            "border": null,
            "align_items": null,
            "bottom": null,
            "_model_module": "@jupyter-widgets/base",
            "top": null,
            "grid_column": null,
            "overflow_y": null,
            "overflow_x": null,
            "grid_auto_flow": null,
            "grid_area": null,
            "grid_template_columns": null,
            "flex": null,
            "_model_name": "LayoutModel",
            "justify_items": null,
            "grid_row": null,
            "max_height": null,
            "align_content": null,
            "visibility": null,
            "align_self": null,
            "height": null,
            "min_height": null,
            "padding": null,
            "grid_auto_rows": null,
            "grid_gap": null,
            "max_width": null,
            "order": null,
            "_view_module_version": "1.2.0",
            "grid_template_areas": null,
            "object_position": null,
            "object_fit": null,
            "grid_auto_columns": null,
            "margin": null,
            "display": null,
            "left": null
          }
        },
        "1a7a06cba9b8431495863867eb25a8c7": {
          "model_module": "@jupyter-widgets/controls",
          "model_name": "DescriptionStyleModel",
          "state": {
            "_view_name": "StyleView",
            "_model_name": "DescriptionStyleModel",
            "description_width": "",
            "_view_module": "@jupyter-widgets/base",
            "_model_module_version": "1.5.0",
            "_view_count": null,
            "_view_module_version": "1.2.0",
            "_model_module": "@jupyter-widgets/controls"
          }
        },
        "204a656b0e454c569be5c9da8c6c3ccb": {
          "model_module": "@jupyter-widgets/base",
          "model_name": "LayoutModel",
          "state": {
            "_view_name": "LayoutView",
            "grid_template_rows": null,
            "right": null,
            "justify_content": null,
            "_view_module": "@jupyter-widgets/base",
            "overflow": null,
            "_model_module_version": "1.2.0",
            "_view_count": null,
            "flex_flow": null,
            "width": null,
            "min_width": null,
            "border": null,
            "align_items": null,
            "bottom": null,
            "_model_module": "@jupyter-widgets/base",
            "top": null,
            "grid_column": null,
            "overflow_y": null,
            "overflow_x": null,
            "grid_auto_flow": null,
            "grid_area": null,
            "grid_template_columns": null,
            "flex": null,
            "_model_name": "LayoutModel",
            "justify_items": null,
            "grid_row": null,
            "max_height": null,
            "align_content": null,
            "visibility": null,
            "align_self": null,
            "height": null,
            "min_height": null,
            "padding": null,
            "grid_auto_rows": null,
            "grid_gap": null,
            "max_width": null,
            "order": null,
            "_view_module_version": "1.2.0",
            "grid_template_areas": null,
            "object_position": null,
            "object_fit": null,
            "grid_auto_columns": null,
            "margin": null,
            "display": null,
            "left": null
          }
        },
        "73f5c50284624d8fabc9dfc359f810e3": {
          "model_module": "@jupyter-widgets/controls",
          "model_name": "HBoxModel",
          "state": {
            "_view_name": "HBoxView",
            "_dom_classes": [],
            "_model_name": "HBoxModel",
            "_view_module": "@jupyter-widgets/controls",
            "_model_module_version": "1.5.0",
            "_view_count": null,
            "_view_module_version": "1.5.0",
            "box_style": "",
            "layout": "IPY_MODEL_601239d4c6474c4ca26b3db5b2c5034a",
            "_model_module": "@jupyter-widgets/controls",
            "children": [
              "IPY_MODEL_b72daa34fc314f9d8d6b6896ae46962a",
              "IPY_MODEL_57b5330b8d5c4f68adba76f0293123b0"
            ]
          }
        },
        "601239d4c6474c4ca26b3db5b2c5034a": {
          "model_module": "@jupyter-widgets/base",
          "model_name": "LayoutModel",
          "state": {
            "_view_name": "LayoutView",
            "grid_template_rows": null,
            "right": null,
            "justify_content": null,
            "_view_module": "@jupyter-widgets/base",
            "overflow": null,
            "_model_module_version": "1.2.0",
            "_view_count": null,
            "flex_flow": null,
            "width": null,
            "min_width": null,
            "border": null,
            "align_items": null,
            "bottom": null,
            "_model_module": "@jupyter-widgets/base",
            "top": null,
            "grid_column": null,
            "overflow_y": null,
            "overflow_x": null,
            "grid_auto_flow": null,
            "grid_area": null,
            "grid_template_columns": null,
            "flex": null,
            "_model_name": "LayoutModel",
            "justify_items": null,
            "grid_row": null,
            "max_height": null,
            "align_content": null,
            "visibility": null,
            "align_self": null,
            "height": null,
            "min_height": null,
            "padding": null,
            "grid_auto_rows": null,
            "grid_gap": null,
            "max_width": null,
            "order": null,
            "_view_module_version": "1.2.0",
            "grid_template_areas": null,
            "object_position": null,
            "object_fit": null,
            "grid_auto_columns": null,
            "margin": null,
            "display": null,
            "left": null
          }
        },
        "b72daa34fc314f9d8d6b6896ae46962a": {
          "model_module": "@jupyter-widgets/controls",
          "model_name": "IntProgressModel",
          "state": {
            "_view_name": "ProgressView",
            "style": "IPY_MODEL_a89fed0508084ec1953a577510ea565d",
            "_dom_classes": [],
            "description": "  9%",
            "_model_name": "IntProgressModel",
            "bar_style": "",
            "max": 5058,
            "_view_module": "@jupyter-widgets/controls",
            "_model_module_version": "1.5.0",
            "value": 436,
            "_view_count": null,
            "_view_module_version": "1.5.0",
            "orientation": "horizontal",
            "min": 0,
            "description_tooltip": null,
            "_model_module": "@jupyter-widgets/controls",
            "layout": "IPY_MODEL_644733e7171c4afebf75ee6b88de326d"
          }
        },
        "57b5330b8d5c4f68adba76f0293123b0": {
          "model_module": "@jupyter-widgets/controls",
          "model_name": "HTMLModel",
          "state": {
            "_view_name": "HTMLView",
            "style": "IPY_MODEL_7c6e2aeef0e74125b84fe62225e6dd95",
            "_dom_classes": [],
            "description": "",
            "_model_name": "HTMLModel",
            "placeholder": "​",
            "_view_module": "@jupyter-widgets/controls",
            "_model_module_version": "1.5.0",
            "value": " 436/5058 [01:22&lt;14:28,  5.32it/s]",
            "_view_count": null,
            "_view_module_version": "1.5.0",
            "description_tooltip": null,
            "_model_module": "@jupyter-widgets/controls",
            "layout": "IPY_MODEL_616a224e2e2848159101b4c68f14971a"
          }
        },
        "a89fed0508084ec1953a577510ea565d": {
          "model_module": "@jupyter-widgets/controls",
          "model_name": "ProgressStyleModel",
          "state": {
            "_view_name": "StyleView",
            "_model_name": "ProgressStyleModel",
            "description_width": "initial",
            "_view_module": "@jupyter-widgets/base",
            "_model_module_version": "1.5.0",
            "_view_count": null,
            "_view_module_version": "1.2.0",
            "bar_color": null,
            "_model_module": "@jupyter-widgets/controls"
          }
        },
        "644733e7171c4afebf75ee6b88de326d": {
          "model_module": "@jupyter-widgets/base",
          "model_name": "LayoutModel",
          "state": {
            "_view_name": "LayoutView",
            "grid_template_rows": null,
            "right": null,
            "justify_content": null,
            "_view_module": "@jupyter-widgets/base",
            "overflow": null,
            "_model_module_version": "1.2.0",
            "_view_count": null,
            "flex_flow": null,
            "width": null,
            "min_width": null,
            "border": null,
            "align_items": null,
            "bottom": null,
            "_model_module": "@jupyter-widgets/base",
            "top": null,
            "grid_column": null,
            "overflow_y": null,
            "overflow_x": null,
            "grid_auto_flow": null,
            "grid_area": null,
            "grid_template_columns": null,
            "flex": null,
            "_model_name": "LayoutModel",
            "justify_items": null,
            "grid_row": null,
            "max_height": null,
            "align_content": null,
            "visibility": null,
            "align_self": null,
            "height": null,
            "min_height": null,
            "padding": null,
            "grid_auto_rows": null,
            "grid_gap": null,
            "max_width": null,
            "order": null,
            "_view_module_version": "1.2.0",
            "grid_template_areas": null,
            "object_position": null,
            "object_fit": null,
            "grid_auto_columns": null,
            "margin": null,
            "display": null,
            "left": null
          }
        },
        "7c6e2aeef0e74125b84fe62225e6dd95": {
          "model_module": "@jupyter-widgets/controls",
          "model_name": "DescriptionStyleModel",
          "state": {
            "_view_name": "StyleView",
            "_model_name": "DescriptionStyleModel",
            "description_width": "",
            "_view_module": "@jupyter-widgets/base",
            "_model_module_version": "1.5.0",
            "_view_count": null,
            "_view_module_version": "1.2.0",
            "_model_module": "@jupyter-widgets/controls"
          }
        },
        "616a224e2e2848159101b4c68f14971a": {
          "model_module": "@jupyter-widgets/base",
          "model_name": "LayoutModel",
          "state": {
            "_view_name": "LayoutView",
            "grid_template_rows": null,
            "right": null,
            "justify_content": null,
            "_view_module": "@jupyter-widgets/base",
            "overflow": null,
            "_model_module_version": "1.2.0",
            "_view_count": null,
            "flex_flow": null,
            "width": null,
            "min_width": null,
            "border": null,
            "align_items": null,
            "bottom": null,
            "_model_module": "@jupyter-widgets/base",
            "top": null,
            "grid_column": null,
            "overflow_y": null,
            "overflow_x": null,
            "grid_auto_flow": null,
            "grid_area": null,
            "grid_template_columns": null,
            "flex": null,
            "_model_name": "LayoutModel",
            "justify_items": null,
            "grid_row": null,
            "max_height": null,
            "align_content": null,
            "visibility": null,
            "align_self": null,
            "height": null,
            "min_height": null,
            "padding": null,
            "grid_auto_rows": null,
            "grid_gap": null,
            "max_width": null,
            "order": null,
            "_view_module_version": "1.2.0",
            "grid_template_areas": null,
            "object_position": null,
            "object_fit": null,
            "grid_auto_columns": null,
            "margin": null,
            "display": null,
            "left": null
          }
        }
      }
    }
  },
  "cells": [
    {
      "cell_type": "markdown",
      "metadata": {
        "id": "view-in-github",
        "colab_type": "text"
      },
      "source": [
        "<a href=\"https://colab.research.google.com/github/i-m-vivek/deep-learning-mini_projects/blob/master/Image_Jigsaw_Solver_PyTorch_Model_3_3_v1.ipynb\" target=\"_parent\"><img src=\"https://colab.research.google.com/assets/colab-badge.svg\" alt=\"Open In Colab\"/></a>"
      ]
    },
    {
      "cell_type": "code",
      "metadata": {
        "id": "A9kHZk44EsY1",
        "colab_type": "code",
        "colab": {
          "base_uri": "https://localhost:8080/",
          "height": 290
        },
        "outputId": "b297992b-6271-49ec-bc72-af9f0d519416"
      },
      "source": [
        "# !unzip \"/content/drive/My Drive/Image Jigsaw Dataset/data_kept.zip\"\n",
        "!unrar x \"/content/drive/My Drive/Image Jigsaw Dataset/new_img_permuted_3-3.rar\""
      ],
      "execution_count": 10,
      "outputs": [
        {
          "output_type": "stream",
          "text": [
            "\n",
            "UNRAR 5.50 freeware      Copyright (c) 1993-2017 Alexander Roshal\n",
            "\n",
            "\n",
            "Extracting from /content/drive/My Drive/Image Jigsaw Dataset/new_img_permuted_3-3.rar\n",
            "\n",
            "\n",
            "Would you like to replace the existing file new_img_permuted_3-3/000002.jpg\n",
            "  6958 bytes, modified on 2020-05-06 11:30\n",
            "with a new one\n",
            "  6958 bytes, modified on 2020-05-06 11:30\n",
            "\n",
            "[Y]es, [N]o, [A]ll, n[E]ver, [R]ename, [Q]uit Q\n",
            "\n",
            "Program aborted\n"
          ],
          "name": "stdout"
        }
      ]
    },
    {
      "cell_type": "code",
      "metadata": {
        "id": "NC_BI2LYChXL",
        "colab_type": "code",
        "colab": {}
      },
      "source": [
        "import torch \n",
        "import torch.nn.functional as F\n",
        "from torch import nn \n",
        "from torch.utils import data as torch_data \n",
        "from torchvision import models, transforms\n",
        "import torchvision\n",
        "\n",
        "from tqdm import tqdm_notebook\n",
        "from PIL import Image\n",
        "import pandas as pd\n",
        "import numpy as np \n",
        "import os \n",
        "import time\n",
        "import copy\n",
        "import matplotlib.pyplot as plt\n",
        "\n",
        "\n",
        "from sklearn.model_selection import train_test_split\n",
        "import warnings\n",
        "warnings.filterwarnings(\"ignore\")"
      ],
      "execution_count": 0,
      "outputs": []
    },
    {
      "cell_type": "code",
      "metadata": {
        "id": "yj697qBPDZVI",
        "colab_type": "code",
        "colab": {}
      },
      "source": [
        "class JigsawDataset(torch_data.Dataset):\n",
        "    \"\"\"Dataset for Jigsaw Solving Task for 2*2 peices Images. \n",
        "    The Dataset will output a Image and 4 Numbers corresponding to the position of the peices.\"\"\"\n",
        "\n",
        "    def __init__(self, df, root_dir, transform):\n",
        "        \"\"\"\n",
        "        Args: \n",
        "            df (pd.DataFrame): DataFrame with positions.\n",
        "            root_dir (string): Path to the dir. where all images are present.\n",
        "            transform (callable, optional): Optional transform to be applied\n",
        "                on a sample.\n",
        "        \"\"\"\n",
        "\n",
        "        self.df = df\n",
        "        self.root_dir = root_dir\n",
        "        self.transform = transform \n",
        "\n",
        "    def __len__(self):\n",
        "        return len(self.df)\n",
        "\n",
        "    def __getitem__(self, idx):\n",
        "        img_name = str(self.df.iloc[idx, 0])\n",
        "        img = Image.open(os.path.join(self.root_dir, img_name))\n",
        "\n",
        "        d = {\"img\": img}\n",
        "        for i in range(1, 10):\n",
        "            d[\"perm\"+str(i)] = perm = self.df.iloc[idx, i]\n",
        "\n",
        "        if self.transform is not None:\n",
        "            d[\"img\"] = self.transform(img)\n",
        "\n",
        "        return d"
      ],
      "execution_count": 0,
      "outputs": []
    },
    {
      "cell_type": "code",
      "metadata": {
        "id": "vQNJcpyZHvyE",
        "colab_type": "code",
        "colab": {}
      },
      "source": [
        "composed_transform = transforms.Compose([\n",
        "   transforms.ToTensor(),\n",
        "   transforms.Normalize((0.485, 0.456, 0.406), (0.229, 0.224, 0.225)),])\n",
        "#    transforms.RandomErasing(.3, )])"
      ],
      "execution_count": 0,
      "outputs": []
    },
    {
      "cell_type": "code",
      "metadata": {
        "id": "CzCGZGrRYCVF",
        "colab_type": "code",
        "colab": {}
      },
      "source": [
        "train = pd.read_csv(\"/content/drive/My Drive/Image Jigsaw Dataset/final_image-permuted-data_3-3.csv\")"
      ],
      "execution_count": 0,
      "outputs": []
    },
    {
      "cell_type": "code",
      "metadata": {
        "id": "MX-PZCCv4FlK",
        "colab_type": "code",
        "colab": {
          "base_uri": "https://localhost:8080/",
          "height": 198
        },
        "outputId": "9dc52a21-f101-4b23-b6be-196b49cbcb17"
      },
      "source": [
        "train.head()"
      ],
      "execution_count": 15,
      "outputs": [
        {
          "output_type": "execute_result",
          "data": {
            "text/html": [
              "<div>\n",
              "<style scoped>\n",
              "    .dataframe tbody tr th:only-of-type {\n",
              "        vertical-align: middle;\n",
              "    }\n",
              "\n",
              "    .dataframe tbody tr th {\n",
              "        vertical-align: top;\n",
              "    }\n",
              "\n",
              "    .dataframe thead th {\n",
              "        text-align: right;\n",
              "    }\n",
              "</style>\n",
              "<table border=\"1\" class=\"dataframe\">\n",
              "  <thead>\n",
              "    <tr style=\"text-align: right;\">\n",
              "      <th></th>\n",
              "      <th>img_name</th>\n",
              "      <th>1</th>\n",
              "      <th>2</th>\n",
              "      <th>3</th>\n",
              "      <th>4</th>\n",
              "      <th>5</th>\n",
              "      <th>6</th>\n",
              "      <th>7</th>\n",
              "      <th>8</th>\n",
              "      <th>9</th>\n",
              "    </tr>\n",
              "  </thead>\n",
              "  <tbody>\n",
              "    <tr>\n",
              "      <th>0</th>\n",
              "      <td>000002.jpg</td>\n",
              "      <td>5</td>\n",
              "      <td>6</td>\n",
              "      <td>8</td>\n",
              "      <td>3</td>\n",
              "      <td>4</td>\n",
              "      <td>2</td>\n",
              "      <td>1</td>\n",
              "      <td>0</td>\n",
              "      <td>7</td>\n",
              "    </tr>\n",
              "    <tr>\n",
              "      <th>1</th>\n",
              "      <td>000009.jpg</td>\n",
              "      <td>7</td>\n",
              "      <td>5</td>\n",
              "      <td>8</td>\n",
              "      <td>6</td>\n",
              "      <td>3</td>\n",
              "      <td>0</td>\n",
              "      <td>4</td>\n",
              "      <td>2</td>\n",
              "      <td>1</td>\n",
              "    </tr>\n",
              "    <tr>\n",
              "      <th>2</th>\n",
              "      <td>000011.jpg</td>\n",
              "      <td>4</td>\n",
              "      <td>5</td>\n",
              "      <td>2</td>\n",
              "      <td>0</td>\n",
              "      <td>7</td>\n",
              "      <td>8</td>\n",
              "      <td>6</td>\n",
              "      <td>3</td>\n",
              "      <td>1</td>\n",
              "    </tr>\n",
              "    <tr>\n",
              "      <th>3</th>\n",
              "      <td>000013.jpg</td>\n",
              "      <td>3</td>\n",
              "      <td>7</td>\n",
              "      <td>6</td>\n",
              "      <td>5</td>\n",
              "      <td>2</td>\n",
              "      <td>0</td>\n",
              "      <td>1</td>\n",
              "      <td>4</td>\n",
              "      <td>8</td>\n",
              "    </tr>\n",
              "    <tr>\n",
              "      <th>4</th>\n",
              "      <td>000015.jpg</td>\n",
              "      <td>4</td>\n",
              "      <td>3</td>\n",
              "      <td>5</td>\n",
              "      <td>0</td>\n",
              "      <td>2</td>\n",
              "      <td>7</td>\n",
              "      <td>6</td>\n",
              "      <td>8</td>\n",
              "      <td>1</td>\n",
              "    </tr>\n",
              "  </tbody>\n",
              "</table>\n",
              "</div>"
            ],
            "text/plain": [
              "     img_name  1  2  3  4  5  6  7  8  9\n",
              "0  000002.jpg  5  6  8  3  4  2  1  0  7\n",
              "1  000009.jpg  7  5  8  6  3  0  4  2  1\n",
              "2  000011.jpg  4  5  2  0  7  8  6  3  1\n",
              "3  000013.jpg  3  7  6  5  2  0  1  4  8\n",
              "4  000015.jpg  4  3  5  0  2  7  6  8  1"
            ]
          },
          "metadata": {
            "tags": []
          },
          "execution_count": 15
        }
      ]
    },
    {
      "cell_type": "code",
      "metadata": {
        "id": "uzKy_Okz3Zrt",
        "colab_type": "code",
        "colab": {
          "base_uri": "https://localhost:8080/",
          "height": 35
        },
        "outputId": "c431d374-d6cd-42ca-b217-837ff95e5acf"
      },
      "source": [
        "train.iloc[0, 9]"
      ],
      "execution_count": 16,
      "outputs": [
        {
          "output_type": "execute_result",
          "data": {
            "text/plain": [
              "7"
            ]
          },
          "metadata": {
            "tags": []
          },
          "execution_count": 16
        }
      ]
    },
    {
      "cell_type": "code",
      "metadata": {
        "id": "b8wRfheAXtCn",
        "colab_type": "code",
        "colab": {}
      },
      "source": [
        "X_train, X_val = train_test_split(train, test_size= .2, random_state = 42, shuffle= True)"
      ],
      "execution_count": 0,
      "outputs": []
    },
    {
      "cell_type": "code",
      "metadata": {
        "id": "3p84qlzpYQTV",
        "colab_type": "code",
        "colab": {}
      },
      "source": [
        "train_dataset = JigsawDataset(df = X_train,\n",
        "                                           root_dir='/content/new_img_permuted_3-3',\n",
        "                                           transform=composed_transform)\n",
        "val_dataset = JigsawDataset(df = X_val, \n",
        "                                           root_dir='/content/new_img_permuted_3-3',\n",
        "                                           transform=composed_transform)"
      ],
      "execution_count": 0,
      "outputs": []
    },
    {
      "cell_type": "code",
      "metadata": {
        "id": "GA6qUhP4Yhps",
        "colab_type": "code",
        "colab": {}
      },
      "source": [
        "trainloader = torch_data.DataLoader(train_dataset, batch_size= 16, shuffle=True)\n",
        "valloader = torch_data.DataLoader(val_dataset, batch_size= 32, shuffle=False)\n",
        "\n",
        "dataloaders = {\"train\": trainloader, \n",
        "               \"val\": valloader}\n",
        "dataset_sizes = {\"train\":  len(train_dataset), \n",
        "                 \"val\": len(val_dataset)}"
      ],
      "execution_count": 0,
      "outputs": []
    },
    {
      "cell_type": "code",
      "metadata": {
        "id": "6HEr-0Bp68TU",
        "colab_type": "code",
        "colab": {
          "base_uri": "https://localhost:8080/",
          "height": 35
        },
        "outputId": "6aad89b1-378a-4c8a-b053-4920d771a5fa"
      },
      "source": [
        "dataset_sizes"
      ],
      "execution_count": 20,
      "outputs": [
        {
          "output_type": "execute_result",
          "data": {
            "text/plain": [
              "{'train': 80919, 'val': 20230}"
            ]
          },
          "metadata": {
            "tags": []
          },
          "execution_count": 20
        }
      ]
    },
    {
      "cell_type": "code",
      "metadata": {
        "id": "JuOANx8GhrFm",
        "colab_type": "code",
        "colab": {}
      },
      "source": [
        "def imshow(inp, title=None):\n",
        "    \"\"\"Imshow for Tensor.\"\"\"\n",
        "    inp = inp.numpy().transpose((1, 2, 0))\n",
        "    mean = np.array([0.485, 0.456, 0.406])\n",
        "    std = np.array([0.229, 0.224, 0.225])\n",
        "    inp = std * inp + mean\n",
        "    inp = np.clip(inp, 0, 1)\n",
        "    plt.imshow(inp)"
      ],
      "execution_count": 0,
      "outputs": []
    },
    {
      "cell_type": "code",
      "metadata": {
        "id": "yu-rIwWWebtp",
        "colab_type": "code",
        "outputId": "af82a870-24f1-4cb7-f792-ee4748088482",
        "colab": {
          "base_uri": "https://localhost:8080/",
          "height": 136
        }
      },
      "source": [
        "sample = next(iter(trainloader))\n",
        "out = torchvision.utils.make_grid(sample[\"img\"])\n",
        "imshow(out)"
      ],
      "execution_count": 22,
      "outputs": [
        {
          "output_type": "display_data",
          "data": {
            "image/png": "[encoded data removed]",
            "text/plain": [
              "<Figure size 432x288 with 1 Axes>"
            ]
          },
          "metadata": {
            "tags": [],
            "needs_background": "light"
          }
        }
      ]
    },
    {
      "cell_type": "code",
      "metadata": {
        "id": "ZHw4OiIk4baK",
        "colab_type": "code",
        "colab": {
          "base_uri": "https://localhost:8080/",
          "height": 1000
        },
        "outputId": "0ebd7c01-2b34-45ff-e596-a65a26ab7c69"
      },
      "source": [
        "sample"
      ],
      "execution_count": 23,
      "outputs": [
        {
          "output_type": "execute_result",
          "data": {
            "text/plain": [
              "{'img': tensor([[[[ 2.1633,  2.1633,  2.1633,  ...,  2.1633,  2.1633,  2.1633],\n",
              "           [ 2.1633,  2.1633,  2.1633,  ...,  2.1633,  2.1633,  2.1633],\n",
              "           [ 2.1633,  2.1633,  2.1633,  ...,  2.1633,  2.1633,  2.1633],\n",
              "           ...,\n",
              "           [ 0.5536,  0.3994,  0.2111,  ...,  2.0092,  2.0092,  2.0092],\n",
              "           [ 0.4508,  0.2967,  0.1254,  ...,  2.0092,  2.0092,  2.0092],\n",
              "           [ 0.3994,  0.2453,  0.1083,  ...,  2.0092,  2.0092,  2.0092]],\n",
              " \n",
              "          [[ 2.3235,  2.3235,  2.3235,  ...,  2.3235,  2.3235,  2.3235],\n",
              "           [ 2.3235,  2.3235,  2.3235,  ...,  2.3235,  2.3235,  2.3235],\n",
              "           [ 2.3235,  2.3235,  2.3235,  ...,  2.3235,  2.3235,  2.3235],\n",
              "           ...,\n",
              "           [ 0.1176, -0.0399, -0.2325,  ...,  2.0959,  2.0959,  2.0959],\n",
              "           [ 0.0126, -0.1450, -0.3200,  ...,  2.0959,  2.0959,  2.0959],\n",
              "           [-0.0399, -0.1975, -0.3375,  ...,  2.0959,  2.0959,  2.0959]],\n",
              " \n",
              "          [[ 2.5006,  2.5006,  2.5006,  ...,  2.5006,  2.5006,  2.5006],\n",
              "           [ 2.5006,  2.5006,  2.5006,  ...,  2.5006,  2.5006,  2.5006],\n",
              "           [ 2.5006,  2.5006,  2.5006,  ...,  2.5006,  2.5006,  2.5006],\n",
              "           ...,\n",
              "           [-0.2707, -0.4275, -0.6193,  ...,  2.2043,  2.2043,  2.2043],\n",
              "           [-0.3753, -0.5321, -0.7064,  ...,  2.2043,  2.2043,  2.2043],\n",
              "           [-0.4275, -0.5844, -0.7238,  ...,  2.2043,  2.2043,  2.2043]]],\n",
              " \n",
              " \n",
              "         [[[-0.0287, -0.0287, -0.0287,  ..., -1.1589, -0.7650, -0.0287],\n",
              "           [-0.0287, -0.0287, -0.0287,  ..., -0.8507, -0.2856,  0.3994],\n",
              "           [-0.0287, -0.0287, -0.0287,  ..., -0.2684,  0.3823,  0.9646],\n",
              "           ...,\n",
              "           [-0.8164, -0.8335, -0.8678,  ...,  1.3242,  1.3413,  1.3755],\n",
              "           [-0.8335, -0.8507, -0.8849,  ...,  1.3242,  1.3584,  1.3755],\n",
              "           [-0.8507, -0.8678, -0.9020,  ...,  1.3413,  1.3584,  1.3755]],\n",
              " \n",
              "          [[ 0.1702,  0.1702,  0.1702,  ..., -1.0903, -0.6877,  0.0651],\n",
              "           [ 0.1702,  0.1702,  0.1702,  ..., -0.7227, -0.1450,  0.5553],\n",
              "           [ 0.1702,  0.1702,  0.1702,  ..., -0.0749,  0.5903,  1.1856],\n",
              "           ...,\n",
              "           [-0.6702, -0.6877, -0.7227,  ...,  0.3102,  0.3277,  0.3627],\n",
              "           [-0.6877, -0.7052, -0.7402,  ...,  0.3102,  0.3452,  0.3627],\n",
              "           [-0.7052, -0.7227, -0.7577,  ...,  0.3277,  0.3452,  0.3627]],\n",
              " \n",
              "          [[ 0.4439,  0.4439,  0.4439,  ..., -1.0898, -0.6890,  0.0605],\n",
              "           [ 0.4439,  0.4439,  0.4439,  ..., -0.7413, -0.1661,  0.5311],\n",
              "           [ 0.4439,  0.4439,  0.4439,  ..., -0.1138,  0.5485,  1.1411],\n",
              "           ...,\n",
              "           [-0.5321, -0.5495, -0.5844,  ...,  0.1999,  0.2173,  0.2522],\n",
              "           [-0.5495, -0.5670, -0.6018,  ...,  0.1999,  0.2348,  0.2522],\n",
              "           [-0.5670, -0.5844, -0.6193,  ...,  0.2173,  0.2348,  0.2522]]],\n",
              " \n",
              " \n",
              "         [[[ 1.1529,  0.8618,  0.5022,  ...,  1.6667,  1.8379,  1.9407],\n",
              "           [ 1.0331,  0.7591,  0.4166,  ...,  1.4954,  1.6838,  1.8037],\n",
              "           [ 0.8276,  0.5707,  0.2453,  ...,  1.3242,  1.5125,  1.6153],\n",
              "           ...,\n",
              "           [-0.1314, -0.3198, -0.1828,  ...,  0.7591,  0.1083,  0.1254],\n",
              "           [ 0.0741, -0.0972,  0.0569,  ...,  1.0844,  0.3994,  0.3652],\n",
              "           [ 0.2111,  0.0398,  0.1939,  ...,  1.2043,  0.4679,  0.4166]],\n",
              " \n",
              "          [[ 0.3452,  0.0651, -0.3025,  ...,  1.2206,  1.3957,  1.5007],\n",
              "           [ 0.2227, -0.0399, -0.3901,  ...,  1.0280,  1.2031,  1.3606],\n",
              "           [ 0.0301, -0.2325, -0.5476,  ...,  0.8004,  0.9930,  1.1506],\n",
              "           ...,\n",
              "           [-0.8277, -1.0203, -0.8803,  ...,  0.0301, -0.6352, -0.6176],\n",
              "           [-0.6176, -0.7927, -0.6352,  ...,  0.3627, -0.3375, -0.3725],\n",
              "           [-0.4776, -0.6527, -0.4951,  ...,  0.4853, -0.2675, -0.3200]],\n",
              " \n",
              "          [[ 0.1999, -0.1312, -0.5670,  ...,  0.9145,  1.0888,  1.2282],\n",
              "           [ 0.0779, -0.2358, -0.6541,  ...,  0.6879,  0.9145,  1.0888],\n",
              "           [-0.1661, -0.4624, -0.8633,  ...,  0.4439,  0.6356,  0.8099],\n",
              "           ...,\n",
              "           [-1.0898, -1.3164, -1.1770,  ..., -0.2184, -0.8807, -0.8633],\n",
              "           [-0.8807, -1.0898, -0.9330,  ...,  0.1128, -0.5844, -0.6193],\n",
              "           [-0.7413, -0.9504, -0.7936,  ...,  0.2348, -0.5147, -0.5670]]],\n",
              " \n",
              " \n",
              "         ...,\n",
              " \n",
              " \n",
              "         [[[-0.6965, -0.7993, -0.6965,  ...,  2.2147,  2.2147,  2.2147],\n",
              "           [-0.6965, -0.7993, -0.6965,  ...,  2.2147,  2.2147,  2.2147],\n",
              "           [-0.6965, -0.7993, -0.6965,  ...,  2.2147,  2.2147,  2.2147],\n",
              "           ...,\n",
              "           [-0.8335, -0.1999,  0.7248,  ..., -1.2445, -1.1247, -1.0390],\n",
              "           [-0.8849, -0.2513,  0.6734,  ..., -1.2959, -1.2788, -1.2274],\n",
              "           [-0.9192, -0.2856,  0.6392,  ..., -1.2274, -1.3130, -1.3302]],\n",
              " \n",
              "          [[-0.9678, -1.0728, -0.9678,  ...,  2.3585,  2.3585,  2.3585],\n",
              "           [-0.9678, -1.0728, -0.9678,  ...,  2.3585,  2.3585,  2.3585],\n",
              "           [-0.9678, -1.0728, -0.9678,  ...,  2.3585,  2.3585,  2.3585],\n",
              "           ...,\n",
              "           [-0.7577, -0.0399,  0.9755,  ..., -1.2829, -1.1604, -1.0728],\n",
              "           [-0.8102, -0.0924,  0.9230,  ..., -1.3529, -1.3354, -1.2829],\n",
              "           [-0.8452, -0.1275,  0.8880,  ..., -1.2304, -1.3179, -1.3354]],\n",
              " \n",
              "          [[-0.9853, -1.0898, -0.9853,  ...,  2.6226,  2.6226,  2.6226],\n",
              "           [-0.9853, -1.0898, -0.9853,  ...,  2.6226,  2.6226,  2.6226],\n",
              "           [-0.9853, -1.0898, -0.9853,  ...,  2.6226,  2.6226,  2.6226],\n",
              "           ...,\n",
              "           [-0.7413, -0.0441,  0.9842,  ..., -1.0898, -0.9678, -0.8807],\n",
              "           [-0.7936, -0.0964,  0.9319,  ..., -1.1073, -1.0898, -1.0376],\n",
              "           [-0.8284, -0.1312,  0.8971,  ..., -1.0027, -1.0898, -1.1073]]],\n",
              " \n",
              " \n",
              "         [[[ 1.4612,  1.4612,  1.4612,  ...,  1.5125,  1.5125,  1.5125],\n",
              "           [ 1.4612,  1.4612,  1.4612,  ...,  1.5125,  1.5125,  1.5125],\n",
              "           [ 1.4612,  1.4612,  1.4612,  ...,  1.5125,  1.5125,  1.5125],\n",
              "           ...,\n",
              "           [ 0.3481,  0.2282, -0.2856,  ...,  1.5468,  1.3413,  1.1015],\n",
              "           [ 0.1426,  0.0569, -0.3198,  ...,  1.3584,  1.1358,  0.8961],\n",
              "           [ 0.1426,  0.0056, -0.4568,  ...,  1.1872,  0.9474,  0.6906]],\n",
              " \n",
              "          [[ 1.6232,  1.6232,  1.6232,  ...,  1.6758,  1.6758,  1.6758],\n",
              "           [ 1.6232,  1.6232,  1.6232,  ...,  1.6758,  1.6758,  1.6758],\n",
              "           [ 1.6232,  1.6232,  1.6232,  ...,  1.6758,  1.6758,  1.6758],\n",
              "           ...,\n",
              "           [-0.5126, -0.5826, -0.9503,  ...,  0.1877, -0.0399, -0.2850],\n",
              "           [-0.7227, -0.7577, -0.9853,  ...,  0.1176, -0.1099, -0.3550],\n",
              "           [-0.7227, -0.8102, -1.1253,  ...,  0.1001, -0.1450, -0.4251]],\n",
              " \n",
              "          [[ 2.0474,  2.0474,  2.0474,  ...,  2.0648,  2.0648,  2.0648],\n",
              "           [ 2.0474,  2.0474,  2.0474,  ...,  2.0648,  2.0648,  2.0648],\n",
              "           [ 2.0474,  2.0474,  2.0474,  ...,  2.0648,  2.0648,  2.0648],\n",
              "           ...,\n",
              "           [-0.8110, -0.8110, -1.0898,  ..., -0.0615, -0.2358, -0.4450],\n",
              "           [-1.0027, -0.9853, -1.1247,  ..., -0.1312, -0.3578, -0.5670],\n",
              "           [-1.0027, -1.0376, -1.2641,  ..., -0.1661, -0.4101, -0.6367]]],\n",
              " \n",
              " \n",
              "         [[[-2.1179, -2.1179, -2.1179,  ..., -1.1760, -0.7993, -0.5938],\n",
              "           [-2.1179, -2.1179, -2.1179,  ..., -1.2445, -0.9192, -0.7308],\n",
              "           [-2.1179, -2.1179, -2.1008,  ..., -1.1760, -0.8678, -0.6794],\n",
              "           ...,\n",
              "           [-1.0048, -0.9363, -0.8678,  ..., -1.5014, -1.5357, -1.4843],\n",
              "           [-0.9534, -0.9020, -0.8164,  ..., -1.5357, -1.5357, -1.4672],\n",
              "           [-0.9192, -0.8507, -0.7822,  ..., -1.5699, -1.5528, -1.4329]],\n",
              " \n",
              "          [[-2.0007, -2.0007, -2.0182,  ..., -1.5805, -1.1954, -0.9853],\n",
              "           [-2.0007, -2.0007, -2.0182,  ..., -1.6155, -1.2829, -1.0903],\n",
              "           [-2.0007, -2.0182, -2.0007,  ..., -1.5455, -1.2304, -1.0378],\n",
              "           ...,\n",
              "           [-1.4580, -1.3880, -1.3179,  ..., -1.8782, -1.9132, -1.8606],\n",
              "           [-1.4055, -1.3529, -1.2654,  ..., -1.9132, -1.9132, -1.8431],\n",
              "           [-1.3704, -1.3004, -1.2304,  ..., -1.9482, -1.9307, -1.8081]],\n",
              " \n",
              "          [[-1.7173, -1.7522, -1.7522,  ..., -1.4907, -1.1073, -0.8981],\n",
              "           [-1.7173, -1.7522, -1.7522,  ..., -1.5430, -1.2119, -1.0201],\n",
              "           [-1.7522, -1.7522, -1.7347,  ..., -1.4733, -1.1596, -0.9678],\n",
              "           ...,\n",
              "           [-1.5953, -1.5256, -1.4559,  ..., -1.7696, -1.8044, -1.7522],\n",
              "           [-1.5430, -1.4907, -1.4036,  ..., -1.8044, -1.8044, -1.7347],\n",
              "           [-1.5081, -1.4384, -1.3687,  ..., -1.8044, -1.8044, -1.6999]]]]),\n",
              " 'perm1': tensor([2, 3, 4, 3, 0, 8, 6, 5, 7, 6, 2, 3, 4, 2, 2, 5]),\n",
              " 'perm2': tensor([3, 0, 2, 1, 6, 6, 2, 3, 5, 0, 0, 6, 1, 8, 8, 8]),\n",
              " 'perm3': tensor([1, 8, 5, 5, 5, 0, 5, 8, 4, 5, 3, 2, 7, 5, 0, 1]),\n",
              " 'perm4': tensor([5, 2, 0, 0, 7, 2, 4, 0, 3, 7, 6, 4, 8, 7, 6, 7]),\n",
              " 'perm5': tensor([7, 1, 8, 6, 2, 4, 3, 2, 8, 3, 7, 1, 0, 4, 7, 0]),\n",
              " 'perm6': tensor([4, 4, 3, 2, 4, 1, 8, 6, 0, 8, 1, 5, 5, 3, 3, 2]),\n",
              " 'perm7': tensor([6, 6, 7, 8, 8, 3, 7, 7, 6, 1, 4, 7, 2, 0, 5, 3]),\n",
              " 'perm8': tensor([0, 5, 1, 7, 3, 7, 0, 1, 1, 4, 5, 8, 6, 6, 1, 6]),\n",
              " 'perm9': tensor([8, 7, 6, 4, 1, 5, 1, 4, 2, 2, 8, 0, 3, 1, 4, 4])}"
            ]
          },
          "metadata": {
            "tags": []
          },
          "execution_count": 23
        }
      ]
    },
    {
      "cell_type": "code",
      "metadata": {
        "id": "O8itlWeyHvsu",
        "colab_type": "code",
        "colab": {}
      },
      "source": [
        "# transformed_dataset = JigsawDataset(csv_file=\"/content/drive/My Drive/Image Jigsaw Dataset/data_kept_50000.csv\",\n",
        "#                                            root_dir='/content/data_kept/',\n",
        "#                                            transform=composed_transform)\n",
        "# for i in range(len(transformed_dataset)):\n",
        "#     sample = transformed_dataset[i]\n",
        "\n",
        "#     print(i, sample['img'].size(), sample[\"perm1\"], sample[\"perm2\"], sample[\"perm3\"], sample[\"perm4\"])\n",
        "\n",
        "#     if i == 3:\n",
        "#         break"
      ],
      "execution_count": 0,
      "outputs": []
    },
    {
      "cell_type": "code",
      "metadata": {
        "id": "9H5vSHySHvoN",
        "colab_type": "code",
        "colab": {}
      },
      "source": [
        "class Net(nn.Module):\n",
        "    def __init__(self, ):\n",
        "        super(Net, self).__init__()\n",
        "        # self.vgg = models.vgg16_bn(pretrained=True)\n",
        "        self.resnet = models.resnet101(pretrained=True)\n",
        "        self.dropout = nn.Dropout(.4)\n",
        "        self.Linear = nn.Linear(1000, 512)\n",
        "        self.fc1 = nn.Linear(512, 9)\n",
        "        self.fc2 = nn.Linear(512, 9)\n",
        "        self.fc3 = nn.Linear(512, 9)\n",
        "        self.fc4 = nn.Linear(512, 9)\n",
        "        self.fc5 = nn.Linear(512, 9)\n",
        "        self.fc6 = nn.Linear(512, 9)\n",
        "        self.fc7 = nn.Linear(512, 9)\n",
        "        self.fc8 = nn.Linear(512, 9)\n",
        "        self.fc9 = nn.Linear(512, 9)\n",
        "\n",
        "\n",
        "    def forward(self, x):\n",
        "        x = self.dropout(F.relu(self.resnet(x)))\n",
        "        x = self.Linear(x)\n",
        "        x1 = self.fc1(x)\n",
        "        x2 = self.fc2(x)\n",
        "        x3 = self.fc3(x)\n",
        "        x4 = self.fc4(x)\n",
        "        x5 = self.fc5(x)\n",
        "        x6 = self.fc6(x)\n",
        "        x7 = self.fc7(x)\n",
        "        x8 = self.fc8(x)\n",
        "        x9 = self.fc9(x)\n",
        "\n",
        "\n",
        "        return x1, x2, x3, x4, x5, x6, x7, x8, x9"
      ],
      "execution_count": 0,
      "outputs": []
    },
    {
      "cell_type": "code",
      "metadata": {
        "id": "wQWjbGB4dYXC",
        "colab_type": "code",
        "colab": {}
      },
      "source": [
        "device = torch.device(\"cuda:0\" if torch.cuda.is_available() else \"cpu\")"
      ],
      "execution_count": 0,
      "outputs": []
    },
    {
      "cell_type": "code",
      "metadata": {
        "id": "1BoX3t5uWrSf",
        "colab_type": "code",
        "outputId": "2f55d5ad-867b-431e-fd9b-05092657994e",
        "colab": {
          "base_uri": "https://localhost:8080/",
          "height": 85,
          "referenced_widgets": [
            "97cf870b101e4998a7746fe4f6827967",
            "4935baceaa544fcf98093acc1a3dc6bb",
            "aa261ae79d774894baf3029604dace71",
            "7417dedcf7b043068e147258479b95da",
            "a2434a70dddb4f96a9fd41b0282b2fb4",
            "6831e0698dee4da1a755bed00bd1c5b8",
            "1a7a06cba9b8431495863867eb25a8c7",
            "204a656b0e454c569be5c9da8c6c3ccb"
          ]
        }
      },
      "source": [
        "net = Net().to(device)"
      ],
      "execution_count": 27,
      "outputs": [
        {
          "output_type": "stream",
          "text": [
            "Downloading: \"https://download.pytorch.org/models/resnet101-5d3b4d8f.pth\" to /root/.cache/torch/checkpoints/resnet101-5d3b4d8f.pth\n"
          ],
          "name": "stderr"
        },
        {
          "output_type": "display_data",
          "data": {
            "application/vnd.jupyter.widget-view+json": {
              "model_id": "97cf870b101e4998a7746fe4f6827967",
              "version_minor": 0,
              "version_major": 2
            },
            "text/plain": [
              "HBox(children=(IntProgress(value=0, max=178728960), HTML(value='')))"
            ]
          },
          "metadata": {
            "tags": []
          }
        },
        {
          "output_type": "stream",
          "text": [
            "\n"
          ],
          "name": "stdout"
        }
      ]
    },
    {
      "cell_type": "code",
      "metadata": {
        "id": "2NCeb4OJHve5",
        "colab_type": "code",
        "outputId": "f52fc98e-27c7-48b5-e136-7ca0d614f630",
        "colab": {
          "base_uri": "https://localhost:8080/",
          "height": 1000
        }
      },
      "source": [
        "from torchsummary import summary\n",
        "summary(net, (3, 180, 180))"
      ],
      "execution_count": 28,
      "outputs": [
        {
          "output_type": "stream",
          "text": [
            "----------------------------------------------------------------\n",
            "        Layer (type)               Output Shape         Param #\n",
            "================================================================\n",
            "            Conv2d-1           [-1, 64, 90, 90]           9,408\n",
            "       BatchNorm2d-2           [-1, 64, 90, 90]             128\n",
            "              ReLU-3           [-1, 64, 90, 90]               0\n",
            "         MaxPool2d-4           [-1, 64, 45, 45]               0\n",
            "            Conv2d-5           [-1, 64, 45, 45]           4,096\n",
            "       BatchNorm2d-6           [-1, 64, 45, 45]             128\n",
            "              ReLU-7           [-1, 64, 45, 45]               0\n",
            "            Conv2d-8           [-1, 64, 45, 45]          36,864\n",
            "       BatchNorm2d-9           [-1, 64, 45, 45]             128\n",
            "             ReLU-10           [-1, 64, 45, 45]               0\n",
            "           Conv2d-11          [-1, 256, 45, 45]          16,384\n",
            "      BatchNorm2d-12          [-1, 256, 45, 45]             512\n",
            "           Conv2d-13          [-1, 256, 45, 45]          16,384\n",
            "      BatchNorm2d-14          [-1, 256, 45, 45]             512\n",
            "             ReLU-15          [-1, 256, 45, 45]               0\n",
            "       Bottleneck-16          [-1, 256, 45, 45]               0\n",
            "           Conv2d-17           [-1, 64, 45, 45]          16,384\n",
            "      BatchNorm2d-18           [-1, 64, 45, 45]             128\n",
            "             ReLU-19           [-1, 64, 45, 45]               0\n",
            "           Conv2d-20           [-1, 64, 45, 45]          36,864\n",
            "      BatchNorm2d-21           [-1, 64, 45, 45]             128\n",
            "             ReLU-22           [-1, 64, 45, 45]               0\n",
            "           Conv2d-23          [-1, 256, 45, 45]          16,384\n",
            "      BatchNorm2d-24          [-1, 256, 45, 45]             512\n",
            "             ReLU-25          [-1, 256, 45, 45]               0\n",
            "       Bottleneck-26          [-1, 256, 45, 45]               0\n",
            "           Conv2d-27           [-1, 64, 45, 45]          16,384\n",
            "      BatchNorm2d-28           [-1, 64, 45, 45]             128\n",
            "             ReLU-29           [-1, 64, 45, 45]               0\n",
            "           Conv2d-30           [-1, 64, 45, 45]          36,864\n",
            "      BatchNorm2d-31           [-1, 64, 45, 45]             128\n",
            "             ReLU-32           [-1, 64, 45, 45]               0\n",
            "           Conv2d-33          [-1, 256, 45, 45]          16,384\n",
            "      BatchNorm2d-34          [-1, 256, 45, 45]             512\n",
            "             ReLU-35          [-1, 256, 45, 45]               0\n",
            "       Bottleneck-36          [-1, 256, 45, 45]               0\n",
            "           Conv2d-37          [-1, 128, 45, 45]          32,768\n",
            "      BatchNorm2d-38          [-1, 128, 45, 45]             256\n",
            "             ReLU-39          [-1, 128, 45, 45]               0\n",
            "           Conv2d-40          [-1, 128, 23, 23]         147,456\n",
            "      BatchNorm2d-41          [-1, 128, 23, 23]             256\n",
            "             ReLU-42          [-1, 128, 23, 23]               0\n",
            "           Conv2d-43          [-1, 512, 23, 23]          65,536\n",
            "      BatchNorm2d-44          [-1, 512, 23, 23]           1,024\n",
            "           Conv2d-45          [-1, 512, 23, 23]         131,072\n",
            "      BatchNorm2d-46          [-1, 512, 23, 23]           1,024\n",
            "             ReLU-47          [-1, 512, 23, 23]               0\n",
            "       Bottleneck-48          [-1, 512, 23, 23]               0\n",
            "           Conv2d-49          [-1, 128, 23, 23]          65,536\n",
            "      BatchNorm2d-50          [-1, 128, 23, 23]             256\n",
            "             ReLU-51          [-1, 128, 23, 23]               0\n",
            "           Conv2d-52          [-1, 128, 23, 23]         147,456\n",
            "      BatchNorm2d-53          [-1, 128, 23, 23]             256\n",
            "             ReLU-54          [-1, 128, 23, 23]               0\n",
            "           Conv2d-55          [-1, 512, 23, 23]          65,536\n",
            "      BatchNorm2d-56          [-1, 512, 23, 23]           1,024\n",
            "             ReLU-57          [-1, 512, 23, 23]               0\n",
            "       Bottleneck-58          [-1, 512, 23, 23]               0\n",
            "           Conv2d-59          [-1, 128, 23, 23]          65,536\n",
            "      BatchNorm2d-60          [-1, 128, 23, 23]             256\n",
            "             ReLU-61          [-1, 128, 23, 23]               0\n",
            "           Conv2d-62          [-1, 128, 23, 23]         147,456\n",
            "      BatchNorm2d-63          [-1, 128, 23, 23]             256\n",
            "             ReLU-64          [-1, 128, 23, 23]               0\n",
            "           Conv2d-65          [-1, 512, 23, 23]          65,536\n",
            "      BatchNorm2d-66          [-1, 512, 23, 23]           1,024\n",
            "             ReLU-67          [-1, 512, 23, 23]               0\n",
            "       Bottleneck-68          [-1, 512, 23, 23]               0\n",
            "           Conv2d-69          [-1, 128, 23, 23]          65,536\n",
            "      BatchNorm2d-70          [-1, 128, 23, 23]             256\n",
            "             ReLU-71          [-1, 128, 23, 23]               0\n",
            "           Conv2d-72          [-1, 128, 23, 23]         147,456\n",
            "      BatchNorm2d-73          [-1, 128, 23, 23]             256\n",
            "             ReLU-74          [-1, 128, 23, 23]               0\n",
            "           Conv2d-75          [-1, 512, 23, 23]          65,536\n",
            "      BatchNorm2d-76          [-1, 512, 23, 23]           1,024\n",
            "             ReLU-77          [-1, 512, 23, 23]               0\n",
            "       Bottleneck-78          [-1, 512, 23, 23]               0\n",
            "           Conv2d-79          [-1, 256, 23, 23]         131,072\n",
            "      BatchNorm2d-80          [-1, 256, 23, 23]             512\n",
            "             ReLU-81          [-1, 256, 23, 23]               0\n",
            "           Conv2d-82          [-1, 256, 12, 12]         589,824\n",
            "      BatchNorm2d-83          [-1, 256, 12, 12]             512\n",
            "             ReLU-84          [-1, 256, 12, 12]               0\n",
            "           Conv2d-85         [-1, 1024, 12, 12]         262,144\n",
            "      BatchNorm2d-86         [-1, 1024, 12, 12]           2,048\n",
            "           Conv2d-87         [-1, 1024, 12, 12]         524,288\n",
            "      BatchNorm2d-88         [-1, 1024, 12, 12]           2,048\n",
            "             ReLU-89         [-1, 1024, 12, 12]               0\n",
            "       Bottleneck-90         [-1, 1024, 12, 12]               0\n",
            "           Conv2d-91          [-1, 256, 12, 12]         262,144\n",
            "      BatchNorm2d-92          [-1, 256, 12, 12]             512\n",
            "             ReLU-93          [-1, 256, 12, 12]               0\n",
            "           Conv2d-94          [-1, 256, 12, 12]         589,824\n",
            "      BatchNorm2d-95          [-1, 256, 12, 12]             512\n",
            "             ReLU-96          [-1, 256, 12, 12]               0\n",
            "           Conv2d-97         [-1, 1024, 12, 12]         262,144\n",
            "      BatchNorm2d-98         [-1, 1024, 12, 12]           2,048\n",
            "             ReLU-99         [-1, 1024, 12, 12]               0\n",
            "      Bottleneck-100         [-1, 1024, 12, 12]               0\n",
            "          Conv2d-101          [-1, 256, 12, 12]         262,144\n",
            "     BatchNorm2d-102          [-1, 256, 12, 12]             512\n",
            "            ReLU-103          [-1, 256, 12, 12]               0\n",
            "          Conv2d-104          [-1, 256, 12, 12]         589,824\n",
            "     BatchNorm2d-105          [-1, 256, 12, 12]             512\n",
            "            ReLU-106          [-1, 256, 12, 12]               0\n",
            "          Conv2d-107         [-1, 1024, 12, 12]         262,144\n",
            "     BatchNorm2d-108         [-1, 1024, 12, 12]           2,048\n",
            "            ReLU-109         [-1, 1024, 12, 12]               0\n",
            "      Bottleneck-110         [-1, 1024, 12, 12]               0\n",
            "          Conv2d-111          [-1, 256, 12, 12]         262,144\n",
            "     BatchNorm2d-112          [-1, 256, 12, 12]             512\n",
            "            ReLU-113          [-1, 256, 12, 12]               0\n",
            "          Conv2d-114          [-1, 256, 12, 12]         589,824\n",
            "     BatchNorm2d-115          [-1, 256, 12, 12]             512\n",
            "            ReLU-116          [-1, 256, 12, 12]               0\n",
            "          Conv2d-117         [-1, 1024, 12, 12]         262,144\n",
            "     BatchNorm2d-118         [-1, 1024, 12, 12]           2,048\n",
            "            ReLU-119         [-1, 1024, 12, 12]               0\n",
            "      Bottleneck-120         [-1, 1024, 12, 12]               0\n",
            "          Conv2d-121          [-1, 256, 12, 12]         262,144\n",
            "     BatchNorm2d-122          [-1, 256, 12, 12]             512\n",
            "            ReLU-123          [-1, 256, 12, 12]               0\n",
            "          Conv2d-124          [-1, 256, 12, 12]         589,824\n",
            "     BatchNorm2d-125          [-1, 256, 12, 12]             512\n",
            "            ReLU-126          [-1, 256, 12, 12]               0\n",
            "          Conv2d-127         [-1, 1024, 12, 12]         262,144\n",
            "     BatchNorm2d-128         [-1, 1024, 12, 12]           2,048\n",
            "            ReLU-129         [-1, 1024, 12, 12]               0\n",
            "      Bottleneck-130         [-1, 1024, 12, 12]               0\n",
            "          Conv2d-131          [-1, 256, 12, 12]         262,144\n",
            "     BatchNorm2d-132          [-1, 256, 12, 12]             512\n",
            "            ReLU-133          [-1, 256, 12, 12]               0\n",
            "          Conv2d-134          [-1, 256, 12, 12]         589,824\n",
            "     BatchNorm2d-135          [-1, 256, 12, 12]             512\n",
            "            ReLU-136          [-1, 256, 12, 12]               0\n",
            "          Conv2d-137         [-1, 1024, 12, 12]         262,144\n",
            "     BatchNorm2d-138         [-1, 1024, 12, 12]           2,048\n",
            "            ReLU-139         [-1, 1024, 12, 12]               0\n",
            "      Bottleneck-140         [-1, 1024, 12, 12]               0\n",
            "          Conv2d-141          [-1, 256, 12, 12]         262,144\n",
            "     BatchNorm2d-142          [-1, 256, 12, 12]             512\n",
            "            ReLU-143          [-1, 256, 12, 12]               0\n",
            "          Conv2d-144          [-1, 256, 12, 12]         589,824\n",
            "     BatchNorm2d-145          [-1, 256, 12, 12]             512\n",
            "            ReLU-146          [-1, 256, 12, 12]               0\n",
            "          Conv2d-147         [-1, 1024, 12, 12]         262,144\n",
            "     BatchNorm2d-148         [-1, 1024, 12, 12]           2,048\n",
            "            ReLU-149         [-1, 1024, 12, 12]               0\n",
            "      Bottleneck-150         [-1, 1024, 12, 12]               0\n",
            "          Conv2d-151          [-1, 256, 12, 12]         262,144\n",
            "     BatchNorm2d-152          [-1, 256, 12, 12]             512\n",
            "            ReLU-153          [-1, 256, 12, 12]               0\n",
            "          Conv2d-154          [-1, 256, 12, 12]         589,824\n",
            "     BatchNorm2d-155          [-1, 256, 12, 12]             512\n",
            "            ReLU-156          [-1, 256, 12, 12]               0\n",
            "          Conv2d-157         [-1, 1024, 12, 12]         262,144\n",
            "     BatchNorm2d-158         [-1, 1024, 12, 12]           2,048\n",
            "            ReLU-159         [-1, 1024, 12, 12]               0\n",
            "      Bottleneck-160         [-1, 1024, 12, 12]               0\n",
            "          Conv2d-161          [-1, 256, 12, 12]         262,144\n",
            "     BatchNorm2d-162          [-1, 256, 12, 12]             512\n",
            "            ReLU-163          [-1, 256, 12, 12]               0\n",
            "          Conv2d-164          [-1, 256, 12, 12]         589,824\n",
            "     BatchNorm2d-165          [-1, 256, 12, 12]             512\n",
            "            ReLU-166          [-1, 256, 12, 12]               0\n",
            "          Conv2d-167         [-1, 1024, 12, 12]         262,144\n",
            "     BatchNorm2d-168         [-1, 1024, 12, 12]           2,048\n",
            "            ReLU-169         [-1, 1024, 12, 12]               0\n",
            "      Bottleneck-170         [-1, 1024, 12, 12]               0\n",
            "          Conv2d-171          [-1, 256, 12, 12]         262,144\n",
            "     BatchNorm2d-172          [-1, 256, 12, 12]             512\n",
            "            ReLU-173          [-1, 256, 12, 12]               0\n",
            "          Conv2d-174          [-1, 256, 12, 12]         589,824\n",
            "     BatchNorm2d-175          [-1, 256, 12, 12]             512\n",
            "            ReLU-176          [-1, 256, 12, 12]               0\n",
            "          Conv2d-177         [-1, 1024, 12, 12]         262,144\n",
            "     BatchNorm2d-178         [-1, 1024, 12, 12]           2,048\n",
            "            ReLU-179         [-1, 1024, 12, 12]               0\n",
            "      Bottleneck-180         [-1, 1024, 12, 12]               0\n",
            "          Conv2d-181          [-1, 256, 12, 12]         262,144\n",
            "     BatchNorm2d-182          [-1, 256, 12, 12]             512\n",
            "            ReLU-183          [-1, 256, 12, 12]               0\n",
            "          Conv2d-184          [-1, 256, 12, 12]         589,824\n",
            "     BatchNorm2d-185          [-1, 256, 12, 12]             512\n",
            "            ReLU-186          [-1, 256, 12, 12]               0\n",
            "          Conv2d-187         [-1, 1024, 12, 12]         262,144\n",
            "     BatchNorm2d-188         [-1, 1024, 12, 12]           2,048\n",
            "            ReLU-189         [-1, 1024, 12, 12]               0\n",
            "      Bottleneck-190         [-1, 1024, 12, 12]               0\n",
            "          Conv2d-191          [-1, 256, 12, 12]         262,144\n",
            "     BatchNorm2d-192          [-1, 256, 12, 12]             512\n",
            "            ReLU-193          [-1, 256, 12, 12]               0\n",
            "          Conv2d-194          [-1, 256, 12, 12]         589,824\n",
            "     BatchNorm2d-195          [-1, 256, 12, 12]             512\n",
            "            ReLU-196          [-1, 256, 12, 12]               0\n",
            "          Conv2d-197         [-1, 1024, 12, 12]         262,144\n",
            "     BatchNorm2d-198         [-1, 1024, 12, 12]           2,048\n",
            "            ReLU-199         [-1, 1024, 12, 12]               0\n",
            "      Bottleneck-200         [-1, 1024, 12, 12]               0\n",
            "          Conv2d-201          [-1, 256, 12, 12]         262,144\n",
            "     BatchNorm2d-202          [-1, 256, 12, 12]             512\n",
            "            ReLU-203          [-1, 256, 12, 12]               0\n",
            "          Conv2d-204          [-1, 256, 12, 12]         589,824\n",
            "     BatchNorm2d-205          [-1, 256, 12, 12]             512\n",
            "            ReLU-206          [-1, 256, 12, 12]               0\n",
            "          Conv2d-207         [-1, 1024, 12, 12]         262,144\n",
            "     BatchNorm2d-208         [-1, 1024, 12, 12]           2,048\n",
            "            ReLU-209         [-1, 1024, 12, 12]               0\n",
            "      Bottleneck-210         [-1, 1024, 12, 12]               0\n",
            "          Conv2d-211          [-1, 256, 12, 12]         262,144\n",
            "     BatchNorm2d-212          [-1, 256, 12, 12]             512\n",
            "            ReLU-213          [-1, 256, 12, 12]               0\n",
            "          Conv2d-214          [-1, 256, 12, 12]         589,824\n",
            "     BatchNorm2d-215          [-1, 256, 12, 12]             512\n",
            "            ReLU-216          [-1, 256, 12, 12]               0\n",
            "          Conv2d-217         [-1, 1024, 12, 12]         262,144\n",
            "     BatchNorm2d-218         [-1, 1024, 12, 12]           2,048\n",
            "            ReLU-219         [-1, 1024, 12, 12]               0\n",
            "      Bottleneck-220         [-1, 1024, 12, 12]               0\n",
            "          Conv2d-221          [-1, 256, 12, 12]         262,144\n",
            "     BatchNorm2d-222          [-1, 256, 12, 12]             512\n",
            "            ReLU-223          [-1, 256, 12, 12]               0\n",
            "          Conv2d-224          [-1, 256, 12, 12]         589,824\n",
            "     BatchNorm2d-225          [-1, 256, 12, 12]             512\n",
            "            ReLU-226          [-1, 256, 12, 12]               0\n",
            "          Conv2d-227         [-1, 1024, 12, 12]         262,144\n",
            "     BatchNorm2d-228         [-1, 1024, 12, 12]           2,048\n",
            "            ReLU-229         [-1, 1024, 12, 12]               0\n",
            "      Bottleneck-230         [-1, 1024, 12, 12]               0\n",
            "          Conv2d-231          [-1, 256, 12, 12]         262,144\n",
            "     BatchNorm2d-232          [-1, 256, 12, 12]             512\n",
            "            ReLU-233          [-1, 256, 12, 12]               0\n",
            "          Conv2d-234          [-1, 256, 12, 12]         589,824\n",
            "     BatchNorm2d-235          [-1, 256, 12, 12]             512\n",
            "            ReLU-236          [-1, 256, 12, 12]               0\n",
            "          Conv2d-237         [-1, 1024, 12, 12]         262,144\n",
            "     BatchNorm2d-238         [-1, 1024, 12, 12]           2,048\n",
            "            ReLU-239         [-1, 1024, 12, 12]               0\n",
            "      Bottleneck-240         [-1, 1024, 12, 12]               0\n",
            "          Conv2d-241          [-1, 256, 12, 12]         262,144\n",
            "     BatchNorm2d-242          [-1, 256, 12, 12]             512\n",
            "            ReLU-243          [-1, 256, 12, 12]               0\n",
            "          Conv2d-244          [-1, 256, 12, 12]         589,824\n",
            "     BatchNorm2d-245          [-1, 256, 12, 12]             512\n",
            "            ReLU-246          [-1, 256, 12, 12]               0\n",
            "          Conv2d-247         [-1, 1024, 12, 12]         262,144\n",
            "     BatchNorm2d-248         [-1, 1024, 12, 12]           2,048\n",
            "            ReLU-249         [-1, 1024, 12, 12]               0\n",
            "      Bottleneck-250         [-1, 1024, 12, 12]               0\n",
            "          Conv2d-251          [-1, 256, 12, 12]         262,144\n",
            "     BatchNorm2d-252          [-1, 256, 12, 12]             512\n",
            "            ReLU-253          [-1, 256, 12, 12]               0\n",
            "          Conv2d-254          [-1, 256, 12, 12]         589,824\n",
            "     BatchNorm2d-255          [-1, 256, 12, 12]             512\n",
            "            ReLU-256          [-1, 256, 12, 12]               0\n",
            "          Conv2d-257         [-1, 1024, 12, 12]         262,144\n",
            "     BatchNorm2d-258         [-1, 1024, 12, 12]           2,048\n",
            "            ReLU-259         [-1, 1024, 12, 12]               0\n",
            "      Bottleneck-260         [-1, 1024, 12, 12]               0\n",
            "          Conv2d-261          [-1, 256, 12, 12]         262,144\n",
            "     BatchNorm2d-262          [-1, 256, 12, 12]             512\n",
            "            ReLU-263          [-1, 256, 12, 12]               0\n",
            "          Conv2d-264          [-1, 256, 12, 12]         589,824\n",
            "     BatchNorm2d-265          [-1, 256, 12, 12]             512\n",
            "            ReLU-266          [-1, 256, 12, 12]               0\n",
            "          Conv2d-267         [-1, 1024, 12, 12]         262,144\n",
            "     BatchNorm2d-268         [-1, 1024, 12, 12]           2,048\n",
            "            ReLU-269         [-1, 1024, 12, 12]               0\n",
            "      Bottleneck-270         [-1, 1024, 12, 12]               0\n",
            "          Conv2d-271          [-1, 256, 12, 12]         262,144\n",
            "     BatchNorm2d-272          [-1, 256, 12, 12]             512\n",
            "            ReLU-273          [-1, 256, 12, 12]               0\n",
            "          Conv2d-274          [-1, 256, 12, 12]         589,824\n",
            "     BatchNorm2d-275          [-1, 256, 12, 12]             512\n",
            "            ReLU-276          [-1, 256, 12, 12]               0\n",
            "          Conv2d-277         [-1, 1024, 12, 12]         262,144\n",
            "     BatchNorm2d-278         [-1, 1024, 12, 12]           2,048\n",
            "            ReLU-279         [-1, 1024, 12, 12]               0\n",
            "      Bottleneck-280         [-1, 1024, 12, 12]               0\n",
            "          Conv2d-281          [-1, 256, 12, 12]         262,144\n",
            "     BatchNorm2d-282          [-1, 256, 12, 12]             512\n",
            "            ReLU-283          [-1, 256, 12, 12]               0\n",
            "          Conv2d-284          [-1, 256, 12, 12]         589,824\n",
            "     BatchNorm2d-285          [-1, 256, 12, 12]             512\n",
            "            ReLU-286          [-1, 256, 12, 12]               0\n",
            "          Conv2d-287         [-1, 1024, 12, 12]         262,144\n",
            "     BatchNorm2d-288         [-1, 1024, 12, 12]           2,048\n",
            "            ReLU-289         [-1, 1024, 12, 12]               0\n",
            "      Bottleneck-290         [-1, 1024, 12, 12]               0\n",
            "          Conv2d-291          [-1, 256, 12, 12]         262,144\n",
            "     BatchNorm2d-292          [-1, 256, 12, 12]             512\n",
            "            ReLU-293          [-1, 256, 12, 12]               0\n",
            "          Conv2d-294          [-1, 256, 12, 12]         589,824\n",
            "     BatchNorm2d-295          [-1, 256, 12, 12]             512\n",
            "            ReLU-296          [-1, 256, 12, 12]               0\n",
            "          Conv2d-297         [-1, 1024, 12, 12]         262,144\n",
            "     BatchNorm2d-298         [-1, 1024, 12, 12]           2,048\n",
            "            ReLU-299         [-1, 1024, 12, 12]               0\n",
            "      Bottleneck-300         [-1, 1024, 12, 12]               0\n",
            "          Conv2d-301          [-1, 256, 12, 12]         262,144\n",
            "     BatchNorm2d-302          [-1, 256, 12, 12]             512\n",
            "            ReLU-303          [-1, 256, 12, 12]               0\n",
            "          Conv2d-304          [-1, 256, 12, 12]         589,824\n",
            "     BatchNorm2d-305          [-1, 256, 12, 12]             512\n",
            "            ReLU-306          [-1, 256, 12, 12]               0\n",
            "          Conv2d-307         [-1, 1024, 12, 12]         262,144\n",
            "     BatchNorm2d-308         [-1, 1024, 12, 12]           2,048\n",
            "            ReLU-309         [-1, 1024, 12, 12]               0\n",
            "      Bottleneck-310         [-1, 1024, 12, 12]               0\n",
            "          Conv2d-311          [-1, 512, 12, 12]         524,288\n",
            "     BatchNorm2d-312          [-1, 512, 12, 12]           1,024\n",
            "            ReLU-313          [-1, 512, 12, 12]               0\n",
            "          Conv2d-314            [-1, 512, 6, 6]       2,359,296\n",
            "     BatchNorm2d-315            [-1, 512, 6, 6]           1,024\n",
            "            ReLU-316            [-1, 512, 6, 6]               0\n",
            "          Conv2d-317           [-1, 2048, 6, 6]       1,048,576\n",
            "     BatchNorm2d-318           [-1, 2048, 6, 6]           4,096\n",
            "          Conv2d-319           [-1, 2048, 6, 6]       2,097,152\n",
            "     BatchNorm2d-320           [-1, 2048, 6, 6]           4,096\n",
            "            ReLU-321           [-1, 2048, 6, 6]               0\n",
            "      Bottleneck-322           [-1, 2048, 6, 6]               0\n",
            "          Conv2d-323            [-1, 512, 6, 6]       1,048,576\n",
            "     BatchNorm2d-324            [-1, 512, 6, 6]           1,024\n",
            "            ReLU-325            [-1, 512, 6, 6]               0\n",
            "          Conv2d-326            [-1, 512, 6, 6]       2,359,296\n",
            "     BatchNorm2d-327            [-1, 512, 6, 6]           1,024\n",
            "            ReLU-328            [-1, 512, 6, 6]               0\n",
            "          Conv2d-329           [-1, 2048, 6, 6]       1,048,576\n",
            "     BatchNorm2d-330           [-1, 2048, 6, 6]           4,096\n",
            "            ReLU-331           [-1, 2048, 6, 6]               0\n",
            "      Bottleneck-332           [-1, 2048, 6, 6]               0\n",
            "          Conv2d-333            [-1, 512, 6, 6]       1,048,576\n",
            "     BatchNorm2d-334            [-1, 512, 6, 6]           1,024\n",
            "            ReLU-335            [-1, 512, 6, 6]               0\n",
            "          Conv2d-336            [-1, 512, 6, 6]       2,359,296\n",
            "     BatchNorm2d-337            [-1, 512, 6, 6]           1,024\n",
            "            ReLU-338            [-1, 512, 6, 6]               0\n",
            "          Conv2d-339           [-1, 2048, 6, 6]       1,048,576\n",
            "     BatchNorm2d-340           [-1, 2048, 6, 6]           4,096\n",
            "            ReLU-341           [-1, 2048, 6, 6]               0\n",
            "      Bottleneck-342           [-1, 2048, 6, 6]               0\n",
            "AdaptiveAvgPool2d-343           [-1, 2048, 1, 1]               0\n",
            "          Linear-344                 [-1, 1000]       2,049,000\n",
            "          ResNet-345                 [-1, 1000]               0\n",
            "         Dropout-346                 [-1, 1000]               0\n",
            "          Linear-347                  [-1, 512]         512,512\n",
            "          Linear-348                    [-1, 9]           4,617\n",
            "          Linear-349                    [-1, 9]           4,617\n",
            "          Linear-350                    [-1, 9]           4,617\n",
            "          Linear-351                    [-1, 9]           4,617\n",
            "          Linear-352                    [-1, 9]           4,617\n",
            "          Linear-353                    [-1, 9]           4,617\n",
            "          Linear-354                    [-1, 9]           4,617\n",
            "          Linear-355                    [-1, 9]           4,617\n",
            "          Linear-356                    [-1, 9]           4,617\n",
            "================================================================\n",
            "Total params: 45,103,225\n",
            "Trainable params: 45,103,225\n",
            "Non-trainable params: 0\n",
            "----------------------------------------------------------------\n",
            "Input size (MB): 0.37\n",
            "Forward/backward pass size (MB): 298.53\n",
            "Params size (MB): 172.06\n",
            "Estimated Total Size (MB): 470.96\n",
            "----------------------------------------------------------------\n"
          ],
          "name": "stdout"
        }
      ]
    },
    {
      "cell_type": "code",
      "metadata": {
        "id": "HuIn3ufaHveH",
        "colab_type": "code",
        "colab": {}
      },
      "source": [
        "import torch.optim as optim\n",
        "\n",
        "criterion = nn.CrossEntropyLoss()\n",
        "optimizer = optim.Adam(net.parameters(), lr= .0001)"
      ],
      "execution_count": 0,
      "outputs": []
    },
    {
      "cell_type": "code",
      "metadata": {
        "id": "ncv9QUNIHvX6",
        "colab_type": "code",
        "colab": {}
      },
      "source": [
        "def train_model(model, criterion, optimizer, num_epochs=25):\n",
        "    since = time.time()\n",
        "\n",
        "    best_model_wts = copy.deepcopy(model.state_dict())\n",
        "    running_loss_arr = []\n",
        "    running_acc_arr = []\n",
        "    best_acc = 0.0\n",
        "\n",
        "    for epoch in range(num_epochs):\n",
        "        print('Epoch {}/{}'.format(epoch, num_epochs - 1))\n",
        "        print('-' * 10)\n",
        "\n",
        "        # Each epoch has a training and validation phase\n",
        "        for phase in ['train', 'val']:\n",
        "            if phase == 'train':\n",
        "                model.train()  # Set model to training mode\n",
        "            else:\n",
        "                model.eval()   # Set model to evaluate mode\n",
        "\n",
        "            running_loss = 0.0\n",
        "            running_corrects = 0\n",
        "\n",
        "            # Iterate over data.\n",
        "            for inp_data in tqdm_notebook(dataloaders[phase]):\n",
        "                inputs = inp_data[\"img\"].to(device)\n",
        "\n",
        "                label1 = inp_data[\"perm1\"].to(device)\n",
        "                label2 = inp_data[\"perm2\"].to(device)\n",
        "                label3 = inp_data[\"perm3\"].to(device)\n",
        "                label4 = inp_data[\"perm4\"].to(device)\n",
        "                label5 = inp_data[\"perm5\"].to(device)\n",
        "                label6 = inp_data[\"perm6\"].to(device)\n",
        "                label7 = inp_data[\"perm7\"].to(device)\n",
        "                label8 = inp_data[\"perm8\"].to(device)\n",
        "                label9 = inp_data[\"perm9\"].to(device)\n",
        "\n",
        "                # zero the parameter gradients\n",
        "                optimizer.zero_grad()\n",
        "\n",
        "                # forward\n",
        "                # track history if only in train\n",
        "                with torch.set_grad_enabled(phase == 'train'):\n",
        "                    out1, out2, out3, out4, out5, out6, out7, out8, out9 = model(inputs)\n",
        "                    _, preds1 = torch.max(out1, 1)\n",
        "                    _, preds2 = torch.max(out2, 1)\n",
        "                    _, preds3 = torch.max(out3, 1)\n",
        "                    _, preds4 = torch.max(out4, 1)\n",
        "                    _, preds5 = torch.max(out5, 1)\n",
        "                    _, preds6 = torch.max(out6, 1)\n",
        "                    _, preds7 = torch.max(out7, 1)\n",
        "                    _, preds8 = torch.max(out8, 1)\n",
        "                    _, preds9 = torch.max(out9, 1)\n",
        "\n",
        "                    loss = criterion(out1, label1.long()) + criterion(out2, label2.long()) + criterion(out3, label3.long()) + criterion(out4, label4.long()) + criterion(out5, label5.long()) + criterion(out6, label6.long()) + criterion(out7, label7.long()) + criterion(out8, label8.long()) + criterion(out9, label9.long())\n",
        "\n",
        "                    # backward + optimize only if in training phase\n",
        "                    if phase == 'train':\n",
        "                        loss.backward()\n",
        "                        optimizer.step()\n",
        "\n",
        "                # statistics\n",
        "                running_loss += loss.item() * inputs.size(0)\n",
        "                running_loss_arr.append(loss.item())\n",
        "                running_corrects += (torch.sum(preds1 == label1.data) + torch.sum(preds2 == label2.data) + torch.sum(preds3 == label3.data)+ torch.sum(preds4 == label4.data) +  torch.sum(preds5 == label5.data) + torch.sum(preds6 == label6.data)+ torch.sum(preds7 == label7.data)+ torch.sum(preds8 == label8.data)+ torch.sum(preds9 == label9.data))/9\n",
        "                running_acc_arr.append(running_corrects/(inputs.size(0)))\n",
        "            # if phase == 'train':\n",
        "            #     scheduler.step()\n",
        "\n",
        "            epoch_loss = running_loss / dataset_sizes[phase]\n",
        "            epoch_acc = running_corrects.double() / dataset_sizes[phase]\n",
        "\n",
        "            print('{} Loss: {:.4f} Acc: {:.4f}'.format(\n",
        "                phase, epoch_loss, epoch_acc))\n",
        "\n",
        "            # deep copy the model\n",
        "            if phase == 'val' and epoch_acc > best_acc:\n",
        "                best_acc = epoch_acc\n",
        "                best_model_wts = copy.deepcopy(model.state_dict())\n",
        "\n",
        "        print()\n",
        "\n",
        "    time_elapsed = time.time() - since\n",
        "    print('Training complete in {:.0f}m {:.0f}s'.format(\n",
        "        time_elapsed // 60, time_elapsed % 60))\n",
        "    print('Best val Acc: {:4f}'.format(best_acc))\n",
        "\n",
        "    # load best model weights\n",
        "    model.load_state_dict(best_model_wts)\n",
        "    return model, running_loss_arr, running_acc_arr"
      ],
      "execution_count": 0,
      "outputs": []
    },
    {
      "cell_type": "code",
      "metadata": {
        "id": "THPQnrztHvVb",
        "colab_type": "code",
        "outputId": "0d91ce46-6b05-43bc-c1f8-2aaf3c374f7a",
        "colab": {
          "base_uri": "https://localhost:8080/",
          "height": 85,
          "referenced_widgets": [
            "73f5c50284624d8fabc9dfc359f810e3",
            "601239d4c6474c4ca26b3db5b2c5034a",
            "b72daa34fc314f9d8d6b6896ae46962a",
            "57b5330b8d5c4f68adba76f0293123b0",
            "a89fed0508084ec1953a577510ea565d",
            "644733e7171c4afebf75ee6b88de326d",
            "7c6e2aeef0e74125b84fe62225e6dd95",
            "616a224e2e2848159101b4c68f14971a"
          ]
        }
      },
      "source": [
        "model_ft, running_loss_arr, running_acc_arr = train_model(net, criterion, optimizer, num_epochs=5)"
      ],
      "execution_count": 0,
      "outputs": [
        {
          "output_type": "stream",
          "text": [
            "Epoch 0/4\n",
            "----------\n"
          ],
          "name": "stdout"
        },
        {
          "output_type": "display_data",
          "data": {
            "application/vnd.jupyter.widget-view+json": {
              "model_id": "73f5c50284624d8fabc9dfc359f810e3",
              "version_minor": 0,
              "version_major": 2
            },
            "text/plain": [
              "HBox(children=(IntProgress(value=0, max=5058), HTML(value='')))"
            ]
          },
          "metadata": {
            "tags": []
          }
        }
      ]
    },
    {
      "cell_type": "markdown",
      "metadata": {
        "id": "oxc7bM-07zez",
        "colab_type": "text"
      },
      "source": [
        "## Some Testing"
      ]
    },
    {
      "cell_type": "code",
      "metadata": {
        "id": "sPVb_daR3jHo",
        "colab_type": "code",
        "colab": {}
      },
      "source": [
        "sample_loader = torch_data.DataLoader(val_dataset, batch_size= 4, shuffle=False)"
      ],
      "execution_count": 0,
      "outputs": []
    },
    {
      "cell_type": "code",
      "metadata": {
        "id": "7YfYnhVc3mw_",
        "colab_type": "code",
        "colab": {}
      },
      "source": [
        "sample_iter = iter(sample_loader)"
      ],
      "execution_count": 0,
      "outputs": []
    },
    {
      "cell_type": "code",
      "metadata": {
        "id": "aIhAdcSl3qV0",
        "colab_type": "code",
        "colab": {}
      },
      "source": [
        "sample_data = next(sample_iter)"
      ],
      "execution_count": 0,
      "outputs": []
    },
    {
      "cell_type": "code",
      "metadata": {
        "id": "TMXRfTrf3vwb",
        "colab_type": "code",
        "outputId": "341f3484-13d5-4a70-c742-dfcc609cf652",
        "colab": {
          "base_uri": "https://localhost:8080/",
          "height": 1000
        }
      },
      "source": [
        "sample_data"
      ],
      "execution_count": 0,
      "outputs": [
        {
          "output_type": "execute_result",
          "data": {
            "text/plain": [
              "{'img': tensor([[[[ 1.6324,  1.6324,  1.6324,  ...,  2.0605,  1.9064,  1.9064],\n",
              "           [ 1.6324,  1.6324,  1.6153,  ...,  1.9578,  1.9578,  1.9578],\n",
              "           [ 1.6324,  1.6153,  1.6153,  ...,  1.9920,  2.0605,  2.0605],\n",
              "           ...,\n",
              "           [ 2.0605,  2.0605,  1.9920,  ...,  1.6495,  1.5639,  1.5639],\n",
              "           [ 1.9749,  1.9407,  1.8893,  ...,  1.4954,  1.4269,  1.4098],\n",
              "           [ 1.9749,  1.9407,  1.8893,  ...,  1.4954,  1.4269,  1.4098]],\n",
              " \n",
              "          [[ 1.8859,  1.8859,  1.8859,  ...,  1.4832,  1.4132,  1.4132],\n",
              "           [ 1.8859,  1.8859,  1.8683,  ...,  1.4657,  1.5182,  1.5182],\n",
              "           [ 1.8859,  1.8683,  1.8683,  ...,  1.5882,  1.6232,  1.6232],\n",
              "           ...,\n",
              "           [ 2.1310,  2.1660,  2.1310,  ...,  0.9405,  0.9230,  0.9230],\n",
              "           [ 2.2185,  2.1835,  2.1310,  ...,  0.8354,  0.7829,  0.7654],\n",
              "           [ 2.2185,  2.1835,  2.1310,  ...,  0.8354,  0.7829,  0.7654]],\n",
              " \n",
              "          [[ 2.0300,  2.0300,  2.0300,  ...,  1.5420,  1.6117,  1.6117],\n",
              "           [ 2.0300,  2.0300,  2.0125,  ...,  1.5245,  1.6988,  1.6988],\n",
              "           [ 2.0300,  2.0125,  2.0125,  ...,  1.6465,  1.8034,  1.8034],\n",
              "           ...,\n",
              "           [ 2.3437,  2.3611,  2.3611,  ...,  0.7228,  0.7228,  0.7228],\n",
              "           [ 2.4134,  2.3786,  2.3263,  ...,  0.6008,  0.5485,  0.5311],\n",
              "           [ 2.4134,  2.3786,  2.3263,  ...,  0.6008,  0.5485,  0.5311]]],\n",
              " \n",
              " \n",
              "         [[[-2.0494, -2.0665, -2.0665,  ..., -2.1179, -2.1179, -2.1179],\n",
              "           [-2.0494, -2.0665, -2.0665,  ..., -2.1179, -2.1179, -2.1179],\n",
              "           [-2.0494, -2.0665, -2.0665,  ..., -2.1179, -2.1179, -2.1179],\n",
              "           ...,\n",
              "           [ 0.9303,  1.3755,  1.5982,  ...,  1.1700,  1.1529,  1.1529],\n",
              "           [ 0.9817,  1.2557,  1.4783,  ...,  1.2043,  1.1187,  1.0844],\n",
              "           [ 0.9817,  1.2557,  1.4783,  ...,  1.2043,  1.1187,  1.0844]],\n",
              " \n",
              "          [[-2.0357, -2.0357, -2.0357,  ..., -2.0357, -2.0357, -2.0357],\n",
              "           [-2.0357, -2.0357, -2.0357,  ..., -2.0357, -2.0357, -2.0357],\n",
              "           [-2.0357, -2.0357, -2.0357,  ..., -2.0357, -2.0357, -2.0357],\n",
              "           ...,\n",
              "           [ 0.4853,  1.0105,  1.3957,  ...,  0.6779,  0.7304,  0.7304],\n",
              "           [ 0.6954,  1.0455,  1.3957,  ...,  0.7479,  0.7304,  0.6954],\n",
              "           [ 0.6954,  1.0455,  1.3957,  ...,  0.7479,  0.7304,  0.6954]],\n",
              " \n",
              "          [[-1.8044, -1.8044, -1.8044,  ..., -1.8044, -1.8044, -1.8044],\n",
              "           [-1.8044, -1.8044, -1.8044,  ..., -1.8044, -1.8044, -1.8044],\n",
              "           [-1.8044, -1.8044, -1.8044,  ..., -1.8044, -1.8044, -1.8044],\n",
              "           ...,\n",
              "           [ 0.4962,  1.0539,  1.5245,  ...,  0.1651,  0.3393,  0.3393],\n",
              "           [ 0.5659,  0.9668,  1.4200,  ...,  0.2348,  0.4439,  0.4091],\n",
              "           [ 0.5659,  0.9668,  1.4200,  ...,  0.2348,  0.4439,  0.4091]]],\n",
              " \n",
              " \n",
              "         [[[-1.5870, -1.6042, -1.6213,  ..., -1.7583, -1.6213, -1.5870],\n",
              "           [-1.5870, -1.6042, -1.6213,  ..., -1.7583, -1.6384, -1.6042],\n",
              "           [-1.5870, -1.6042, -1.6213,  ..., -1.7754, -1.6384, -1.6042],\n",
              "           ...,\n",
              "           [-1.7240, -1.7240, -1.7240,  ..., -1.5699, -1.7069, -1.7069],\n",
              "           [-1.7583, -1.7412, -1.7412,  ..., -1.5014, -1.5699, -1.5699],\n",
              "           [-1.7583, -1.7412, -1.7412,  ..., -1.5014, -1.5699, -1.5699]],\n",
              " \n",
              "          [[-1.6681, -1.6856, -1.7031,  ..., -1.6681, -1.7031, -1.6681],\n",
              "           [-1.6681, -1.6856, -1.7031,  ..., -1.6681, -1.7206, -1.6856],\n",
              "           [-1.6681, -1.6856, -1.7031,  ..., -1.6856, -1.7206, -1.6856],\n",
              "           ...,\n",
              "           [-1.5980, -1.5980, -1.5980,  ..., -1.4405, -1.5630, -1.5630],\n",
              "           [-1.6331, -1.6155, -1.6155,  ..., -1.3704, -1.4405, -1.4405],\n",
              "           [-1.6331, -1.6155, -1.6155,  ..., -1.3704, -1.4405, -1.4405]],\n",
              " \n",
              "          [[-1.4559, -1.4733, -1.4907,  ..., -1.4384, -1.4559, -1.4210],\n",
              "           [-1.4559, -1.4733, -1.4907,  ..., -1.4384, -1.4733, -1.4384],\n",
              "           [-1.4559, -1.4733, -1.4907,  ..., -1.4559, -1.4733, -1.4384],\n",
              "           ...,\n",
              "           [-1.1596, -1.1596, -1.1596,  ..., -0.9504, -1.0376, -1.0376],\n",
              "           [-1.1944, -1.1770, -1.1770,  ..., -0.9156, -1.0027, -1.0027],\n",
              "           [-1.1944, -1.1770, -1.1770,  ..., -0.9156, -1.0027, -1.0027]]],\n",
              " \n",
              " \n",
              "         [[[ 1.7694,  1.7865,  1.8550,  ...,  2.2489,  2.2489,  2.2489],\n",
              "           [ 1.7523,  1.7865,  1.8550,  ...,  2.2489,  2.2489,  2.2489],\n",
              "           [ 1.7865,  1.8208,  1.8379,  ...,  2.2489,  2.2489,  2.2489],\n",
              "           ...,\n",
              "           [ 0.0056, -0.0116,  0.0056,  ...,  0.7762,  1.3413,  1.3927],\n",
              "           [-0.0116, -0.0287, -0.0287,  ...,  0.4851,  1.0502,  1.3755],\n",
              "           [-0.0116, -0.0287, -0.0287,  ...,  0.4851,  1.0502,  1.3755]],\n",
              " \n",
              "          [[ 0.8880,  0.9580,  1.0280,  ...,  2.3936,  2.4286,  2.4286],\n",
              "           [ 0.9230,  0.9580,  1.0280,  ...,  2.3936,  2.4286,  2.4286],\n",
              "           [ 0.9580,  0.9930,  1.0455,  ...,  2.3936,  2.4286,  2.4286],\n",
              "           ...,\n",
              "           [-0.6877, -0.7052, -0.7227,  ..., -0.0049,  0.4153,  0.4678],\n",
              "           [-0.6702, -0.6877, -0.6877,  ..., -0.3901, -0.0574,  0.2752],\n",
              "           [-0.6702, -0.6877, -0.6877,  ..., -0.3901, -0.0574,  0.2752]],\n",
              " \n",
              "          [[ 0.6182,  0.6705,  0.7228,  ...,  2.6226,  2.6400,  2.6400],\n",
              "           [ 0.6356,  0.6705,  0.7228,  ...,  2.6226,  2.6400,  2.6400],\n",
              "           [ 0.6705,  0.7054,  0.7228,  ...,  2.6226,  2.6400,  2.6400],\n",
              "           ...,\n",
              "           [-0.7761, -0.7936, -0.7936,  ...,  0.0779,  0.1999,  0.2522],\n",
              "           [-0.7761, -0.7936, -0.7936,  ..., -0.3578, -0.0790,  0.2522],\n",
              "           [-0.7761, -0.7936, -0.7936,  ..., -0.3578, -0.0790,  0.2522]]]]),\n",
              " 'perm1': tensor([1., 0., 1., 2.], dtype=torch.float64),\n",
              " 'perm2': tensor([3., 1., 0., 1.], dtype=torch.float64),\n",
              " 'perm3': tensor([0., 3., 2., 3.], dtype=torch.float64),\n",
              " 'perm4': tensor([2., 2., 3., 0.], dtype=torch.float64)}"
            ]
          },
          "metadata": {
            "tags": []
          },
          "execution_count": 50
        }
      ]
    },
    {
      "cell_type": "code",
      "metadata": {
        "id": "gEdZFT9tySD_",
        "colab_type": "code",
        "colab": {}
      },
      "source": [
        "sample_preds = model_ft(sample_data[\"img\"].to(device))"
      ],
      "execution_count": 0,
      "outputs": []
    },
    {
      "cell_type": "code",
      "metadata": {
        "id": "mBc28XmGzIzc",
        "colab_type": "code",
        "colab": {}
      },
      "source": [
        "_, sample_preds_ = torch.max((sample_preds[3]), 1)"
      ],
      "execution_count": 0,
      "outputs": []
    },
    {
      "cell_type": "code",
      "metadata": {
        "id": "CUV5-dJuaS49",
        "colab_type": "code",
        "outputId": "024a7b08-6d00-490f-dd90-82d801dcc167",
        "colab": {
          "base_uri": "https://localhost:8080/",
          "height": 35
        }
      },
      "source": [
        "sample_preds_"
      ],
      "execution_count": 0,
      "outputs": [
        {
          "output_type": "execute_result",
          "data": {
            "text/plain": [
              "tensor([2, 2, 3, 0], device='cuda:0')"
            ]
          },
          "metadata": {
            "tags": []
          },
          "execution_count": 66
        }
      ]
    },
    {
      "cell_type": "code",
      "metadata": {
        "id": "vxMEYZSoy3RE",
        "colab_type": "code",
        "colab": {}
      },
      "source": [
        ""
      ],
      "execution_count": 0,
      "outputs": []
    }
  ]
}